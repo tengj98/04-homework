{
 "cells": [
  {
   "cell_type": "markdown",
   "metadata": {},
   "source": [
    "# WeatherAPI (Weather)\n",
    "\n",
    "Answer the following questions using [WeatherAPI](http://www.weatherapi.com/). I've added three cells for most questions but you're free to use more or less! Hold `Shift` and hit `Enter` to run a cell, and use the `+` on the top left to add a new cell to a notebook.\n",
    "\n",
    "Be sure to take advantage of both the documentation and the API Explorer!\n",
    "\n",
    "## 0) Import any libraries you might need\n",
    "\n",
    "- *Tip: We're going to be downloading things from the internet, so we probably need `requests`.*\n",
    "- *Tip: Remember you only need to import requests once!*"
   ]
  },
  {
   "cell_type": "code",
   "execution_count": 1,
   "metadata": {},
   "outputs": [],
   "source": [
    "import requests"
   ]
  },
  {
   "cell_type": "code",
   "execution_count": null,
   "metadata": {
    "collapsed": true
   },
   "outputs": [],
   "source": []
  },
  {
   "cell_type": "markdown",
   "metadata": {
    "collapsed": true
   },
   "source": [
    "## 1) Make a request to the Weather API for where you were born (or lived, or want to visit!).\n",
    "\n",
    "- *Tip: The URL we used in class was for a place near San Francisco. What was the format of the endpoint that made this happen?*\n",
    "- *Tip: Save the URL as a separate variable, and be sure to not have `[` and `]` inside.*\n",
    "- *Tip: How is north vs. south and east vs. west latitude/longitude represented? Is it the normal North/South/East/West?*\n",
    "- *Tip: You know it's JSON, but Python doesn't! Make sure you aren't trying to deal with plain text.* \n",
    "- *Tip: Once you've imported the JSON into a variable, check the timezone's name to make sure it seems like it got the right part of the world!*"
   ]
  },
  {
   "cell_type": "code",
   "execution_count": 12,
   "metadata": {},
   "outputs": [],
   "source": [
    "laurl = \"http://api.weatherapi.com/v1/current.json?key=29872720da6d4e50b6d231629221406&q=91754\"\n",
    "laresp = requests.get(laurl)\n",
    "ladata = laresp.json()"
   ]
  },
  {
   "cell_type": "code",
   "execution_count": 13,
   "metadata": {},
   "outputs": [
    {
     "name": "stdout",
     "output_type": "stream",
     "text": [
      "{'location': {'name': 'Monterey Park', 'region': 'California', 'country': 'USA', 'lat': 34.05, 'lon': -118.15, 'tz_id': 'America/Los_Angeles', 'localtime_epoch': 1655547790, 'localtime': '2022-06-18 3:23'}, 'current': {'last_updated_epoch': 1655547300, 'last_updated': '2022-06-18 03:15', 'temp_c': 15.6, 'temp_f': 60.1, 'is_day': 0, 'condition': {'text': 'Clear', 'icon': '//cdn.weatherapi.com/weather/64x64/night/113.png', 'code': 1000}, 'wind_mph': 2.2, 'wind_kph': 3.6, 'wind_degree': 10, 'wind_dir': 'N', 'pressure_mb': 1011.0, 'pressure_in': 29.86, 'precip_mm': 0.0, 'precip_in': 0.0, 'humidity': 78, 'cloud': 0, 'feelslike_c': 15.6, 'feelslike_f': 60.1, 'vis_km': 16.0, 'vis_miles': 9.0, 'uv': 1.0, 'gust_mph': 8.3, 'gust_kph': 13.3}}\n"
     ]
    }
   ],
   "source": [
    "print(ladata)"
   ]
  },
  {
   "cell_type": "code",
   "execution_count": null,
   "metadata": {
    "collapsed": true
   },
   "outputs": [],
   "source": []
  },
  {
   "cell_type": "markdown",
   "metadata": {},
   "source": [
    "## 2) What's the current wind speed? How much warmer does it feel than it actually is?\n",
    "\n",
    "- *Tip: You can do this by browsing through the dictionaries, but it might be easier to read the documentation*\n",
    "- *Tip: For the second half: it **is** one temperature, and it **feels** a different temperature. Calculate the difference.*"
   ]
  },
  {
   "cell_type": "code",
   "execution_count": 24,
   "metadata": {},
   "outputs": [],
   "source": [
    "windspeed = ladata['current']['wind_kph']\n",
    "currenttemp = ladata['current']['temp_c']\n",
    "feelslike = ladata['current']['feelslike_c']"
   ]
  },
  {
   "cell_type": "code",
   "execution_count": 77,
   "metadata": {},
   "outputs": [
    {
     "name": "stdout",
     "output_type": "stream",
     "text": [
      "The current windspeed is 3.6 kph.\n"
     ]
    }
   ],
   "source": [
    "print(f\"The current windspeed is {windspeed} kph.\")"
   ]
  },
  {
   "cell_type": "code",
   "execution_count": 26,
   "metadata": {},
   "outputs": [
    {
     "name": "stdout",
     "output_type": "stream",
     "text": [
      "It feels like the same temperature.\n"
     ]
    }
   ],
   "source": [
    "if currenttemp > feelslike:\n",
    "    print(f\"It feels {tempdiff:.1f} degrees cooler.\")\n",
    "elif currenttemp == feelslike:\n",
    "    print(f\"It feels like the same temperature.\")\n",
    "else:\n",
    "    print(f\"It feels {tempdiff:.1f} degrees warmer.\")"
   ]
  },
  {
   "cell_type": "markdown",
   "metadata": {},
   "source": [
    "## 3) What is the API endpoint for moon-related information? For the place you decided on above, how much of the moon will be visible tomorrow?\n",
    "\n",
    "- *Tip: Check the documentation!*\n",
    "- *Tip: If you aren't sure what something means, ask in Slack*"
   ]
  },
  {
   "cell_type": "code",
   "execution_count": 89,
   "metadata": {},
   "outputs": [],
   "source": [
    "forecasturl = \"http://api.weatherapi.com/v1/forecast.json?key=29872720da6d4e50b6d231629221406&q=91754&days=7\"\n",
    "forecastresp = requests.get(forecasturl)\n",
    "forecastdata = forecastresp.json()"
   ]
  },
  {
   "cell_type": "code",
   "execution_count": 90,
   "metadata": {},
   "outputs": [
    {
     "name": "stdout",
     "output_type": "stream",
     "text": [
      "{'location': {'name': 'Monterey Park', 'region': 'California', 'country': 'USA', 'lat': 34.05, 'lon': -118.15, 'tz_id': 'America/Los_Angeles', 'localtime_epoch': 1655549550, 'localtime': '2022-06-18 3:52'}, 'current': {'last_updated_epoch': 1655549100, 'last_updated': '2022-06-18 03:45', 'temp_c': 15.6, 'temp_f': 60.1, 'is_day': 0, 'condition': {'text': 'Clear', 'icon': '//cdn.weatherapi.com/weather/64x64/night/113.png', 'code': 1000}, 'wind_mph': 2.2, 'wind_kph': 3.6, 'wind_degree': 10, 'wind_dir': 'N', 'pressure_mb': 1011.0, 'pressure_in': 29.86, 'precip_mm': 0.0, 'precip_in': 0.0, 'humidity': 78, 'cloud': 0, 'feelslike_c': 15.6, 'feelslike_f': 60.1, 'vis_km': 16.0, 'vis_miles': 9.0, 'uv': 1.0, 'gust_mph': 8.3, 'gust_kph': 13.3}, 'forecast': {'forecastday': [{'date': '2022-06-18', 'date_epoch': 1655510400, 'day': {'maxtemp_c': 27.5, 'maxtemp_f': 81.5, 'mintemp_c': 15.3, 'mintemp_f': 59.5, 'avgtemp_c': 20.2, 'avgtemp_f': 68.4, 'maxwind_mph': 11.6, 'maxwind_kph': 18.7, 'totalprecip_mm': 0.0, 'totalprecip_in': 0.0, 'avgvis_km': 10.0, 'avgvis_miles': 6.0, 'avghumidity': 49.0, 'daily_will_it_rain': 0, 'daily_chance_of_rain': 0, 'daily_will_it_snow': 0, 'daily_chance_of_snow': 0, 'condition': {'text': 'Sunny', 'icon': '//cdn.weatherapi.com/weather/64x64/day/113.png', 'code': 1000}, 'uv': 9.0}, 'astro': {'sunrise': '05:41 AM', 'sunset': '08:06 PM', 'moonrise': 'No moonrise', 'moonset': '10:17 AM', 'moon_phase': 'Waning Gibbous', 'moon_illumination': '63'}, 'hour': [{'time_epoch': 1655535600, 'time': '2022-06-18 00:00', 'temp_c': 17.4, 'temp_f': 63.3, 'is_day': 0, 'condition': {'text': 'Clear', 'icon': '//cdn.weatherapi.com/weather/64x64/night/113.png', 'code': 1000}, 'wind_mph': 5.1, 'wind_kph': 8.3, 'wind_degree': 161, 'wind_dir': 'SSE', 'pressure_mb': 1011.0, 'pressure_in': 29.86, 'precip_mm': 0.0, 'precip_in': 0.0, 'humidity': 56, 'cloud': 4, 'feelslike_c': 17.4, 'feelslike_f': 63.3, 'windchill_c': 17.4, 'windchill_f': 63.3, 'heatindex_c': 17.4, 'heatindex_f': 63.3, 'dewpoint_c': 8.6, 'dewpoint_f': 47.5, 'will_it_rain': 0, 'chance_of_rain': 0, 'will_it_snow': 0, 'chance_of_snow': 0, 'vis_km': 10.0, 'vis_miles': 6.0, 'gust_mph': 6.5, 'gust_kph': 10.4, 'uv': 1.0}, {'time_epoch': 1655539200, 'time': '2022-06-18 01:00', 'temp_c': 17.1, 'temp_f': 62.8, 'is_day': 0, 'condition': {'text': 'Clear', 'icon': '//cdn.weatherapi.com/weather/64x64/night/113.png', 'code': 1000}, 'wind_mph': 6.0, 'wind_kph': 9.7, 'wind_degree': 145, 'wind_dir': 'SE', 'pressure_mb': 1011.0, 'pressure_in': 29.86, 'precip_mm': 0.0, 'precip_in': 0.0, 'humidity': 59, 'cloud': 0, 'feelslike_c': 17.1, 'feelslike_f': 62.8, 'windchill_c': 17.1, 'windchill_f': 62.8, 'heatindex_c': 17.1, 'heatindex_f': 62.8, 'dewpoint_c': 9.0, 'dewpoint_f': 48.2, 'will_it_rain': 0, 'chance_of_rain': 0, 'will_it_snow': 0, 'chance_of_snow': 0, 'vis_km': 10.0, 'vis_miles': 6.0, 'gust_mph': 7.6, 'gust_kph': 12.2, 'uv': 1.0}, {'time_epoch': 1655542800, 'time': '2022-06-18 02:00', 'temp_c': 16.6, 'temp_f': 61.9, 'is_day': 0, 'condition': {'text': 'Clear', 'icon': '//cdn.weatherapi.com/weather/64x64/night/113.png', 'code': 1000}, 'wind_mph': 6.5, 'wind_kph': 10.4, 'wind_degree': 141, 'wind_dir': 'SE', 'pressure_mb': 1011.0, 'pressure_in': 29.87, 'precip_mm': 0.0, 'precip_in': 0.0, 'humidity': 63, 'cloud': 0, 'feelslike_c': 16.6, 'feelslike_f': 61.9, 'windchill_c': 16.6, 'windchill_f': 61.9, 'heatindex_c': 16.6, 'heatindex_f': 61.9, 'dewpoint_c': 9.5, 'dewpoint_f': 49.1, 'will_it_rain': 0, 'chance_of_rain': 0, 'will_it_snow': 0, 'chance_of_snow': 0, 'vis_km': 10.0, 'vis_miles': 6.0, 'gust_mph': 8.3, 'gust_kph': 13.3, 'uv': 1.0}, {'time_epoch': 1655546400, 'time': '2022-06-18 03:00', 'temp_c': 16.2, 'temp_f': 61.2, 'is_day': 0, 'condition': {'text': 'Clear', 'icon': '//cdn.weatherapi.com/weather/64x64/night/113.png', 'code': 1000}, 'wind_mph': 6.3, 'wind_kph': 10.1, 'wind_degree': 141, 'wind_dir': 'SE', 'pressure_mb': 1012.0, 'pressure_in': 29.87, 'precip_mm': 0.0, 'precip_in': 0.0, 'humidity': 66, 'cloud': 0, 'feelslike_c': 16.2, 'feelslike_f': 61.2, 'windchill_c': 16.2, 'windchill_f': 61.2, 'heatindex_c': 16.2, 'heatindex_f': 61.2, 'dewpoint_c': 9.8, 'dewpoint_f': 49.6, 'will_it_rain': 0, 'chance_of_rain': 0, 'will_it_snow': 0, 'chance_of_snow': 0, 'vis_km': 10.0, 'vis_miles': 6.0, 'gust_mph': 8.1, 'gust_kph': 13.0, 'uv': 1.0}, {'time_epoch': 1655550000, 'time': '2022-06-18 04:00', 'temp_c': 15.8, 'temp_f': 60.4, 'is_day': 0, 'condition': {'text': 'Clear', 'icon': '//cdn.weatherapi.com/weather/64x64/night/113.png', 'code': 1000}, 'wind_mph': 5.6, 'wind_kph': 9.0, 'wind_degree': 136, 'wind_dir': 'SE', 'pressure_mb': 1012.0, 'pressure_in': 29.87, 'precip_mm': 0.0, 'precip_in': 0.0, 'humidity': 68, 'cloud': 0, 'feelslike_c': 15.8, 'feelslike_f': 60.4, 'windchill_c': 15.8, 'windchill_f': 60.4, 'heatindex_c': 15.8, 'heatindex_f': 60.4, 'dewpoint_c': 9.9, 'dewpoint_f': 49.8, 'will_it_rain': 0, 'chance_of_rain': 0, 'will_it_snow': 0, 'chance_of_snow': 0, 'vis_km': 10.0, 'vis_miles': 6.0, 'gust_mph': 7.4, 'gust_kph': 11.9, 'uv': 1.0}, {'time_epoch': 1655553600, 'time': '2022-06-18 05:00', 'temp_c': 15.4, 'temp_f': 59.7, 'is_day': 0, 'condition': {'text': 'Clear', 'icon': '//cdn.weatherapi.com/weather/64x64/night/113.png', 'code': 1000}, 'wind_mph': 4.9, 'wind_kph': 7.9, 'wind_degree': 133, 'wind_dir': 'SE', 'pressure_mb': 1012.0, 'pressure_in': 29.87, 'precip_mm': 0.0, 'precip_in': 0.0, 'humidity': 69, 'cloud': 2, 'feelslike_c': 15.4, 'feelslike_f': 59.7, 'windchill_c': 15.4, 'windchill_f': 59.7, 'heatindex_c': 15.4, 'heatindex_f': 59.7, 'dewpoint_c': 9.7, 'dewpoint_f': 49.5, 'will_it_rain': 0, 'chance_of_rain': 0, 'will_it_snow': 0, 'chance_of_snow': 0, 'vis_km': 10.0, 'vis_miles': 6.0, 'gust_mph': 6.9, 'gust_kph': 11.2, 'uv': 1.0}, {'time_epoch': 1655557200, 'time': '2022-06-18 06:00', 'temp_c': 15.3, 'temp_f': 59.5, 'is_day': 1, 'condition': {'text': 'Sunny', 'icon': '//cdn.weatherapi.com/weather/64x64/day/113.png', 'code': 1000}, 'wind_mph': 4.0, 'wind_kph': 6.5, 'wind_degree': 135, 'wind_dir': 'SE', 'pressure_mb': 1012.0, 'pressure_in': 29.89, 'precip_mm': 0.0, 'precip_in': 0.0, 'humidity': 69, 'cloud': 5, 'feelslike_c': 15.3, 'feelslike_f': 59.5, 'windchill_c': 15.3, 'windchill_f': 59.5, 'heatindex_c': 15.3, 'heatindex_f': 59.5, 'dewpoint_c': 9.7, 'dewpoint_f': 49.5, 'will_it_rain': 0, 'chance_of_rain': 0, 'will_it_snow': 0, 'chance_of_snow': 0, 'vis_km': 10.0, 'vis_miles': 6.0, 'gust_mph': 5.6, 'gust_kph': 9.0, 'uv': 5.0}, {'time_epoch': 1655560800, 'time': '2022-06-18 07:00', 'temp_c': 16.5, 'temp_f': 61.7, 'is_day': 1, 'condition': {'text': 'Sunny', 'icon': '//cdn.weatherapi.com/weather/64x64/day/113.png', 'code': 1000}, 'wind_mph': 4.0, 'wind_kph': 6.5, 'wind_degree': 143, 'wind_dir': 'SE', 'pressure_mb': 1012.0, 'pressure_in': 29.89, 'precip_mm': 0.0, 'precip_in': 0.0, 'humidity': 65, 'cloud': 5, 'feelslike_c': 16.5, 'feelslike_f': 61.7, 'windchill_c': 16.5, 'windchill_f': 61.7, 'heatindex_c': 16.5, 'heatindex_f': 61.7, 'dewpoint_c': 10.0, 'dewpoint_f': 50.0, 'will_it_rain': 0, 'chance_of_rain': 0, 'will_it_snow': 0, 'chance_of_snow': 0, 'vis_km': 10.0, 'vis_miles': 6.0, 'gust_mph': 4.7, 'gust_kph': 7.6, 'uv': 5.0}, {'time_epoch': 1655564400, 'time': '2022-06-18 08:00', 'temp_c': 17.7, 'temp_f': 63.9, 'is_day': 1, 'condition': {'text': 'Sunny', 'icon': '//cdn.weatherapi.com/weather/64x64/day/113.png', 'code': 1000}, 'wind_mph': 4.5, 'wind_kph': 7.2, 'wind_degree': 156, 'wind_dir': 'SSE', 'pressure_mb': 1013.0, 'pressure_in': 29.91, 'precip_mm': 0.0, 'precip_in': 0.0, 'humidity': 60, 'cloud': 0, 'feelslike_c': 17.7, 'feelslike_f': 63.9, 'windchill_c': 17.7, 'windchill_f': 63.9, 'heatindex_c': 17.7, 'heatindex_f': 63.9, 'dewpoint_c': 9.8, 'dewpoint_f': 49.6, 'will_it_rain': 0, 'chance_of_rain': 0, 'will_it_snow': 0, 'chance_of_snow': 0, 'vis_km': 10.0, 'vis_miles': 6.0, 'gust_mph': 5.1, 'gust_kph': 8.3, 'uv': 5.0}, {'time_epoch': 1655568000, 'time': '2022-06-18 09:00', 'temp_c': 19.1, 'temp_f': 66.4, 'is_day': 1, 'condition': {'text': 'Sunny', 'icon': '//cdn.weatherapi.com/weather/64x64/day/113.png', 'code': 1000}, 'wind_mph': 5.4, 'wind_kph': 8.6, 'wind_degree': 165, 'wind_dir': 'SSE', 'pressure_mb': 1013.0, 'pressure_in': 29.91, 'precip_mm': 0.0, 'precip_in': 0.0, 'humidity': 53, 'cloud': 0, 'feelslike_c': 19.1, 'feelslike_f': 66.4, 'windchill_c': 19.1, 'windchill_f': 66.4, 'heatindex_c': 19.1, 'heatindex_f': 66.4, 'dewpoint_c': 9.3, 'dewpoint_f': 48.7, 'will_it_rain': 0, 'chance_of_rain': 0, 'will_it_snow': 0, 'chance_of_snow': 0, 'vis_km': 10.0, 'vis_miles': 6.0, 'gust_mph': 6.3, 'gust_kph': 10.1, 'uv': 5.0}, {'time_epoch': 1655571600, 'time': '2022-06-18 10:00', 'temp_c': 20.7, 'temp_f': 69.3, 'is_day': 1, 'condition': {'text': 'Sunny', 'icon': '//cdn.weatherapi.com/weather/64x64/day/113.png', 'code': 1000}, 'wind_mph': 6.5, 'wind_kph': 10.4, 'wind_degree': 169, 'wind_dir': 'S', 'pressure_mb': 1013.0, 'pressure_in': 29.9, 'precip_mm': 0.0, 'precip_in': 0.0, 'humidity': 45, 'cloud': 0, 'feelslike_c': 20.7, 'feelslike_f': 69.3, 'windchill_c': 20.7, 'windchill_f': 69.3, 'heatindex_c': 20.7, 'heatindex_f': 69.3, 'dewpoint_c': 8.2, 'dewpoint_f': 46.8, 'will_it_rain': 0, 'chance_of_rain': 0, 'will_it_snow': 0, 'chance_of_snow': 0, 'vis_km': 10.0, 'vis_miles': 6.0, 'gust_mph': 7.4, 'gust_kph': 11.9, 'uv': 6.0}, {'time_epoch': 1655575200, 'time': '2022-06-18 11:00', 'temp_c': 23.4, 'temp_f': 74.1, 'is_day': 1, 'condition': {'text': 'Sunny', 'icon': '//cdn.weatherapi.com/weather/64x64/day/113.png', 'code': 1000}, 'wind_mph': 7.2, 'wind_kph': 11.5, 'wind_degree': 176, 'wind_dir': 'S', 'pressure_mb': 1012.0, 'pressure_in': 29.9, 'precip_mm': 0.0, 'precip_in': 0.0, 'humidity': 37, 'cloud': 0, 'feelslike_c': 24.3, 'feelslike_f': 75.7, 'windchill_c': 23.4, 'windchill_f': 74.1, 'heatindex_c': 24.3, 'heatindex_f': 75.7, 'dewpoint_c': 7.9, 'dewpoint_f': 46.2, 'will_it_rain': 0, 'chance_of_rain': 0, 'will_it_snow': 0, 'chance_of_snow': 0, 'vis_km': 10.0, 'vis_miles': 6.0, 'gust_mph': 8.3, 'gust_kph': 13.3, 'uv': 6.0}, {'time_epoch': 1655578800, 'time': '2022-06-18 12:00', 'temp_c': 24.6, 'temp_f': 76.3, 'is_day': 1, 'condition': {'text': 'Sunny', 'icon': '//cdn.weatherapi.com/weather/64x64/day/113.png', 'code': 1000}, 'wind_mph': 8.5, 'wind_kph': 13.7, 'wind_degree': 185, 'wind_dir': 'S', 'pressure_mb': 1012.0, 'pressure_in': 29.89, 'precip_mm': 0.0, 'precip_in': 0.0, 'humidity': 31, 'cloud': 0, 'feelslike_c': 24.6, 'feelslike_f': 76.3, 'windchill_c': 24.6, 'windchill_f': 76.3, 'heatindex_c': 24.6, 'heatindex_f': 76.3, 'dewpoint_c': 6.6, 'dewpoint_f': 43.9, 'will_it_rain': 0, 'chance_of_rain': 0, 'will_it_snow': 0, 'chance_of_snow': 0, 'vis_km': 10.0, 'vis_miles': 6.0, 'gust_mph': 9.8, 'gust_kph': 15.8, 'uv': 6.0}, {'time_epoch': 1655582400, 'time': '2022-06-18 13:00', 'temp_c': 25.0, 'temp_f': 77.0, 'is_day': 1, 'condition': {'text': 'Sunny', 'icon': '//cdn.weatherapi.com/weather/64x64/day/113.png', 'code': 1000}, 'wind_mph': 10.1, 'wind_kph': 16.2, 'wind_degree': 192, 'wind_dir': 'SSW', 'pressure_mb': 1012.0, 'pressure_in': 29.88, 'precip_mm': 0.0, 'precip_in': 0.0, 'humidity': 29, 'cloud': 0, 'feelslike_c': 24.6, 'feelslike_f': 76.3, 'windchill_c': 25.0, 'windchill_f': 77.0, 'heatindex_c': 24.6, 'heatindex_f': 76.3, 'dewpoint_c': 5.6, 'dewpoint_f': 42.1, 'will_it_rain': 0, 'chance_of_rain': 0, 'will_it_snow': 0, 'chance_of_snow': 0, 'vis_km': 10.0, 'vis_miles': 6.0, 'gust_mph': 11.6, 'gust_kph': 18.7, 'uv': 7.0}, {'time_epoch': 1655586000, 'time': '2022-06-18 14:00', 'temp_c': 24.9, 'temp_f': 76.8, 'is_day': 1, 'condition': {'text': 'Sunny', 'icon': '//cdn.weatherapi.com/weather/64x64/day/113.png', 'code': 1000}, 'wind_mph': 11.2, 'wind_kph': 18.0, 'wind_degree': 198, 'wind_dir': 'SSW', 'pressure_mb': 1012.0, 'pressure_in': 29.88, 'precip_mm': 0.0, 'precip_in': 0.0, 'humidity': 28, 'cloud': 0, 'feelslike_c': 24.5, 'feelslike_f': 76.1, 'windchill_c': 24.9, 'windchill_f': 76.8, 'heatindex_c': 24.5, 'heatindex_f': 76.1, 'dewpoint_c': 5.4, 'dewpoint_f': 41.7, 'will_it_rain': 0, 'chance_of_rain': 0, 'will_it_snow': 0, 'chance_of_snow': 0, 'vis_km': 10.0, 'vis_miles': 6.0, 'gust_mph': 13.0, 'gust_kph': 20.9, 'uv': 6.0}, {'time_epoch': 1655589600, 'time': '2022-06-18 15:00', 'temp_c': 27.5, 'temp_f': 81.5, 'is_day': 1, 'condition': {'text': 'Sunny', 'icon': '//cdn.weatherapi.com/weather/64x64/day/113.png', 'code': 1000}, 'wind_mph': 11.6, 'wind_kph': 18.7, 'wind_degree': 209, 'wind_dir': 'SSW', 'pressure_mb': 1012.0, 'pressure_in': 29.88, 'precip_mm': 0.0, 'precip_in': 0.0, 'humidity': 30, 'cloud': 0, 'feelslike_c': 26.6, 'feelslike_f': 79.9, 'windchill_c': 27.5, 'windchill_f': 81.5, 'heatindex_c': 26.6, 'heatindex_f': 79.9, 'dewpoint_c': 8.6, 'dewpoint_f': 47.5, 'will_it_rain': 0, 'chance_of_rain': 0, 'will_it_snow': 0, 'chance_of_snow': 0, 'vis_km': 10.0, 'vis_miles': 6.0, 'gust_mph': 13.4, 'gust_kph': 21.6, 'uv': 7.0}, {'time_epoch': 1655593200, 'time': '2022-06-18 16:00', 'temp_c': 24.3, 'temp_f': 75.7, 'is_day': 1, 'condition': {'text': 'Sunny', 'icon': '//cdn.weatherapi.com/weather/64x64/day/113.png', 'code': 1000}, 'wind_mph': 10.7, 'wind_kph': 17.3, 'wind_degree': 220, 'wind_dir': 'SW', 'pressure_mb': 1012.0, 'pressure_in': 29.87, 'precip_mm': 0.0, 'precip_in': 0.0, 'humidity': 33, 'cloud': 0, 'feelslike_c': 24.5, 'feelslike_f': 76.1, 'windchill_c': 24.3, 'windchill_f': 75.7, 'heatindex_c': 24.5, 'heatindex_f': 76.1, 'dewpoint_c': 6.9, 'dewpoint_f': 44.4, 'will_it_rain': 0, 'chance_of_rain': 0, 'will_it_snow': 0, 'chance_of_snow': 0, 'vis_km': 10.0, 'vis_miles': 6.0, 'gust_mph': 12.3, 'gust_kph': 19.8, 'uv': 6.0}, {'time_epoch': 1655596800, 'time': '2022-06-18 17:00', 'temp_c': 24.1, 'temp_f': 75.4, 'is_day': 1, 'condition': {'text': 'Sunny', 'icon': '//cdn.weatherapi.com/weather/64x64/day/113.png', 'code': 1000}, 'wind_mph': 10.5, 'wind_kph': 16.9, 'wind_degree': 225, 'wind_dir': 'SW', 'pressure_mb': 1011.0, 'pressure_in': 29.86, 'precip_mm': 0.0, 'precip_in': 0.0, 'humidity': 34, 'cloud': 0, 'feelslike_c': 24.5, 'feelslike_f': 76.1, 'windchill_c': 24.1, 'windchill_f': 75.4, 'heatindex_c': 24.5, 'heatindex_f': 76.1, 'dewpoint_c': 7.3, 'dewpoint_f': 45.1, 'will_it_rain': 0, 'chance_of_rain': 0, 'will_it_snow': 0, 'chance_of_snow': 0, 'vis_km': 10.0, 'vis_miles': 6.0, 'gust_mph': 12.1, 'gust_kph': 19.4, 'uv': 6.0}, {'time_epoch': 1655600400, 'time': '2022-06-18 18:00', 'temp_c': 23.6, 'temp_f': 74.5, 'is_day': 1, 'condition': {'text': 'Sunny', 'icon': '//cdn.weatherapi.com/weather/64x64/day/113.png', 'code': 1000}, 'wind_mph': 10.3, 'wind_kph': 16.6, 'wind_degree': 228, 'wind_dir': 'SW', 'pressure_mb': 1011.0, 'pressure_in': 29.86, 'precip_mm': 0.0, 'precip_in': 0.0, 'humidity': 35, 'cloud': 0, 'feelslike_c': 24.3, 'feelslike_f': 75.7, 'windchill_c': 23.6, 'windchill_f': 74.5, 'heatindex_c': 24.3, 'heatindex_f': 75.7, 'dewpoint_c': 7.4, 'dewpoint_f': 45.3, 'will_it_rain': 0, 'chance_of_rain': 0, 'will_it_snow': 0, 'chance_of_snow': 0, 'vis_km': 10.0, 'vis_miles': 6.0, 'gust_mph': 11.9, 'gust_kph': 19.1, 'uv': 6.0}, {'time_epoch': 1655604000, 'time': '2022-06-18 19:00', 'temp_c': 23.0, 'temp_f': 73.4, 'is_day': 1, 'condition': {'text': 'Sunny', 'icon': '//cdn.weatherapi.com/weather/64x64/day/113.png', 'code': 1000}, 'wind_mph': 9.6, 'wind_kph': 15.5, 'wind_degree': 227, 'wind_dir': 'SW', 'pressure_mb': 1012.0, 'pressure_in': 29.87, 'precip_mm': 0.0, 'precip_in': 0.0, 'humidity': 38, 'cloud': 0, 'feelslike_c': 24.2, 'feelslike_f': 75.6, 'windchill_c': 23.0, 'windchill_f': 73.4, 'heatindex_c': 24.2, 'heatindex_f': 75.6, 'dewpoint_c': 7.9, 'dewpoint_f': 46.2, 'will_it_rain': 0, 'chance_of_rain': 0, 'will_it_snow': 0, 'chance_of_snow': 0, 'vis_km': 10.0, 'vis_miles': 6.0, 'gust_mph': 11.2, 'gust_kph': 18.0, 'uv': 6.0}, {'time_epoch': 1655607600, 'time': '2022-06-18 20:00', 'temp_c': 20.3, 'temp_f': 68.5, 'is_day': 1, 'condition': {'text': 'Sunny', 'icon': '//cdn.weatherapi.com/weather/64x64/day/113.png', 'code': 1000}, 'wind_mph': 8.5, 'wind_kph': 13.7, 'wind_degree': 226, 'wind_dir': 'SW', 'pressure_mb': 1012.0, 'pressure_in': 29.89, 'precip_mm': 0.0, 'precip_in': 0.0, 'humidity': 44, 'cloud': 0, 'feelslike_c': 20.3, 'feelslike_f': 68.5, 'windchill_c': 20.3, 'windchill_f': 68.5, 'heatindex_c': 20.3, 'heatindex_f': 68.5, 'dewpoint_c': 7.7, 'dewpoint_f': 45.9, 'will_it_rain': 0, 'chance_of_rain': 0, 'will_it_snow': 0, 'chance_of_snow': 0, 'vis_km': 10.0, 'vis_miles': 6.0, 'gust_mph': 9.8, 'gust_kph': 15.8, 'uv': 6.0}, {'time_epoch': 1655611200, 'time': '2022-06-18 21:00', 'temp_c': 19.4, 'temp_f': 66.9, 'is_day': 0, 'condition': {'text': 'Clear', 'icon': '//cdn.weatherapi.com/weather/64x64/night/113.png', 'code': 1000}, 'wind_mph': 5.6, 'wind_kph': 9.0, 'wind_degree': 214, 'wind_dir': 'SW', 'pressure_mb': 1013.0, 'pressure_in': 29.9, 'precip_mm': 0.0, 'precip_in': 0.0, 'humidity': 49, 'cloud': 0, 'feelslike_c': 19.4, 'feelslike_f': 66.9, 'windchill_c': 19.4, 'windchill_f': 66.9, 'heatindex_c': 19.4, 'heatindex_f': 66.9, 'dewpoint_c': 8.3, 'dewpoint_f': 46.9, 'will_it_rain': 0, 'chance_of_rain': 0, 'will_it_snow': 0, 'chance_of_snow': 0, 'vis_km': 10.0, 'vis_miles': 6.0, 'gust_mph': 6.7, 'gust_kph': 10.8, 'uv': 1.0}, {'time_epoch': 1655614800, 'time': '2022-06-18 22:00', 'temp_c': 19.0, 'temp_f': 66.2, 'is_day': 0, 'condition': {'text': 'Clear', 'icon': '//cdn.weatherapi.com/weather/64x64/night/113.png', 'code': 1000}, 'wind_mph': 4.0, 'wind_kph': 6.5, 'wind_degree': 188, 'wind_dir': 'S', 'pressure_mb': 1014.0, 'pressure_in': 29.93, 'precip_mm': 0.0, 'precip_in': 0.0, 'humidity': 51, 'cloud': 0, 'feelslike_c': 19.0, 'feelslike_f': 66.2, 'windchill_c': 19.0, 'windchill_f': 66.2, 'heatindex_c': 19.0, 'heatindex_f': 66.2, 'dewpoint_c': 8.7, 'dewpoint_f': 47.7, 'will_it_rain': 0, 'chance_of_rain': 0, 'will_it_snow': 0, 'chance_of_snow': 0, 'vis_km': 10.0, 'vis_miles': 6.0, 'gust_mph': 4.7, 'gust_kph': 7.6, 'uv': 1.0}, {'time_epoch': 1655618400, 'time': '2022-06-18 23:00', 'temp_c': 18.5, 'temp_f': 65.3, 'is_day': 0, 'condition': {'text': 'Clear', 'icon': '//cdn.weatherapi.com/weather/64x64/night/113.png', 'code': 1000}, 'wind_mph': 5.8, 'wind_kph': 9.4, 'wind_degree': 148, 'wind_dir': 'SSE', 'pressure_mb': 1014.0, 'pressure_in': 29.94, 'precip_mm': 0.0, 'precip_in': 0.0, 'humidity': 54, 'cloud': 2, 'feelslike_c': 18.5, 'feelslike_f': 65.3, 'windchill_c': 18.5, 'windchill_f': 65.3, 'heatindex_c': 18.5, 'heatindex_f': 65.3, 'dewpoint_c': 8.9, 'dewpoint_f': 48.0, 'will_it_rain': 0, 'chance_of_rain': 0, 'will_it_snow': 0, 'chance_of_snow': 0, 'vis_km': 10.0, 'vis_miles': 6.0, 'gust_mph': 7.2, 'gust_kph': 11.5, 'uv': 1.0}]}, {'date': '2022-06-19', 'date_epoch': 1655596800, 'day': {'maxtemp_c': 29.7, 'maxtemp_f': 85.5, 'mintemp_c': 16.1, 'mintemp_f': 61.0, 'avgtemp_c': 22.2, 'avgtemp_f': 72.0, 'maxwind_mph': 11.6, 'maxwind_kph': 18.7, 'totalprecip_mm': 0.0, 'totalprecip_in': 0.0, 'avgvis_km': 10.0, 'avgvis_miles': 6.0, 'avghumidity': 43.0, 'daily_will_it_rain': 0, 'daily_chance_of_rain': 0, 'daily_will_it_snow': 0, 'daily_chance_of_snow': 0, 'condition': {'text': 'Sunny', 'icon': '//cdn.weatherapi.com/weather/64x64/day/113.png', 'code': 1000}, 'uv': 10.0}, 'astro': {'sunrise': '05:41 AM', 'sunset': '08:07 PM', 'moonrise': '12:17 AM', 'moonset': '11:26 AM', 'moon_phase': 'Waning Gibbous', 'moon_illumination': '56'}, 'hour': [{'time_epoch': 1655622000, 'time': '2022-06-19 00:00', 'temp_c': 17.9, 'temp_f': 64.2, 'is_day': 0, 'condition': {'text': 'Clear', 'icon': '//cdn.weatherapi.com/weather/64x64/night/113.png', 'code': 1000}, 'wind_mph': 6.3, 'wind_kph': 10.1, 'wind_degree': 137, 'wind_dir': 'SE', 'pressure_mb': 1014.0, 'pressure_in': 29.94, 'precip_mm': 0.0, 'precip_in': 0.0, 'humidity': 55, 'cloud': 0, 'feelslike_c': 17.9, 'feelslike_f': 64.2, 'windchill_c': 17.9, 'windchill_f': 64.2, 'heatindex_c': 17.9, 'heatindex_f': 64.2, 'dewpoint_c': 8.8, 'dewpoint_f': 47.8, 'will_it_rain': 0, 'chance_of_rain': 0, 'will_it_snow': 0, 'chance_of_snow': 0, 'vis_km': 10.0, 'vis_miles': 6.0, 'gust_mph': 8.1, 'gust_kph': 13.0, 'uv': 1.0}, {'time_epoch': 1655625600, 'time': '2022-06-19 01:00', 'temp_c': 17.5, 'temp_f': 63.5, 'is_day': 0, 'condition': {'text': 'Clear', 'icon': '//cdn.weatherapi.com/weather/64x64/night/113.png', 'code': 1000}, 'wind_mph': 5.4, 'wind_kph': 8.6, 'wind_degree': 141, 'wind_dir': 'SE', 'pressure_mb': 1014.0, 'pressure_in': 29.94, 'precip_mm': 0.0, 'precip_in': 0.0, 'humidity': 56, 'cloud': 0, 'feelslike_c': 17.5, 'feelslike_f': 63.5, 'windchill_c': 17.5, 'windchill_f': 63.5, 'heatindex_c': 17.5, 'heatindex_f': 63.5, 'dewpoint_c': 8.7, 'dewpoint_f': 47.7, 'will_it_rain': 0, 'chance_of_rain': 0, 'will_it_snow': 0, 'chance_of_snow': 0, 'vis_km': 10.0, 'vis_miles': 6.0, 'gust_mph': 6.9, 'gust_kph': 11.2, 'uv': 1.0}, {'time_epoch': 1655629200, 'time': '2022-06-19 02:00', 'temp_c': 17.0, 'temp_f': 62.6, 'is_day': 0, 'condition': {'text': 'Clear', 'icon': '//cdn.weatherapi.com/weather/64x64/night/113.png', 'code': 1000}, 'wind_mph': 4.9, 'wind_kph': 7.9, 'wind_degree': 156, 'wind_dir': 'SSE', 'pressure_mb': 1014.0, 'pressure_in': 29.94, 'precip_mm': 0.0, 'precip_in': 0.0, 'humidity': 57, 'cloud': 0, 'feelslike_c': 17.0, 'feelslike_f': 62.6, 'windchill_c': 17.0, 'windchill_f': 62.6, 'heatindex_c': 17.0, 'heatindex_f': 62.6, 'dewpoint_c': 8.5, 'dewpoint_f': 47.3, 'will_it_rain': 0, 'chance_of_rain': 0, 'will_it_snow': 0, 'chance_of_snow': 0, 'vis_km': 10.0, 'vis_miles': 6.0, 'gust_mph': 6.7, 'gust_kph': 10.8, 'uv': 1.0}, {'time_epoch': 1655632800, 'time': '2022-06-19 03:00', 'temp_c': 16.5, 'temp_f': 61.7, 'is_day': 0, 'condition': {'text': 'Clear', 'icon': '//cdn.weatherapi.com/weather/64x64/night/113.png', 'code': 1000}, 'wind_mph': 3.1, 'wind_kph': 5.0, 'wind_degree': 171, 'wind_dir': 'S', 'pressure_mb': 1014.0, 'pressure_in': 29.94, 'precip_mm': 0.0, 'precip_in': 0.0, 'humidity': 59, 'cloud': 0, 'feelslike_c': 16.5, 'feelslike_f': 61.7, 'windchill_c': 16.5, 'windchill_f': 61.7, 'heatindex_c': 16.5, 'heatindex_f': 61.7, 'dewpoint_c': 8.4, 'dewpoint_f': 47.1, 'will_it_rain': 0, 'chance_of_rain': 0, 'will_it_snow': 0, 'chance_of_snow': 0, 'vis_km': 10.0, 'vis_miles': 6.0, 'gust_mph': 4.5, 'gust_kph': 7.2, 'uv': 1.0}, {'time_epoch': 1655636400, 'time': '2022-06-19 04:00', 'temp_c': 16.3, 'temp_f': 61.3, 'is_day': 0, 'condition': {'text': 'Clear', 'icon': '//cdn.weatherapi.com/weather/64x64/night/113.png', 'code': 1000}, 'wind_mph': 2.5, 'wind_kph': 4.0, 'wind_degree': 172, 'wind_dir': 'S', 'pressure_mb': 1014.0, 'pressure_in': 29.94, 'precip_mm': 0.0, 'precip_in': 0.0, 'humidity': 60, 'cloud': 0, 'feelslike_c': 16.3, 'feelslike_f': 61.3, 'windchill_c': 16.3, 'windchill_f': 61.3, 'heatindex_c': 16.3, 'heatindex_f': 61.3, 'dewpoint_c': 8.5, 'dewpoint_f': 47.3, 'will_it_rain': 0, 'chance_of_rain': 0, 'will_it_snow': 0, 'chance_of_snow': 0, 'vis_km': 10.0, 'vis_miles': 6.0, 'gust_mph': 3.4, 'gust_kph': 5.4, 'uv': 1.0}, {'time_epoch': 1655640000, 'time': '2022-06-19 05:00', 'temp_c': 16.1, 'temp_f': 61.0, 'is_day': 0, 'condition': {'text': 'Clear', 'icon': '//cdn.weatherapi.com/weather/64x64/night/113.png', 'code': 1000}, 'wind_mph': 2.0, 'wind_kph': 3.2, 'wind_degree': 172, 'wind_dir': 'S', 'pressure_mb': 1014.0, 'pressure_in': 29.94, 'precip_mm': 0.0, 'precip_in': 0.0, 'humidity': 61, 'cloud': 0, 'feelslike_c': 16.1, 'feelslike_f': 61.0, 'windchill_c': 16.1, 'windchill_f': 61.0, 'heatindex_c': 16.1, 'heatindex_f': 61.0, 'dewpoint_c': 8.5, 'dewpoint_f': 47.3, 'will_it_rain': 0, 'chance_of_rain': 0, 'will_it_snow': 0, 'chance_of_snow': 0, 'vis_km': 10.0, 'vis_miles': 6.0, 'gust_mph': 2.9, 'gust_kph': 4.7, 'uv': 1.0}, {'time_epoch': 1655643600, 'time': '2022-06-19 06:00', 'temp_c': 16.1, 'temp_f': 61.0, 'is_day': 1, 'condition': {'text': 'Sunny', 'icon': '//cdn.weatherapi.com/weather/64x64/day/113.png', 'code': 1000}, 'wind_mph': 1.3, 'wind_kph': 2.2, 'wind_degree': 202, 'wind_dir': 'SSW', 'pressure_mb': 1014.0, 'pressure_in': 29.95, 'precip_mm': 0.0, 'precip_in': 0.0, 'humidity': 61, 'cloud': 0, 'feelslike_c': 16.1, 'feelslike_f': 61.0, 'windchill_c': 16.1, 'windchill_f': 61.0, 'heatindex_c': 16.1, 'heatindex_f': 61.0, 'dewpoint_c': 8.5, 'dewpoint_f': 47.3, 'will_it_rain': 0, 'chance_of_rain': 0, 'will_it_snow': 0, 'chance_of_snow': 0, 'vis_km': 10.0, 'vis_miles': 6.0, 'gust_mph': 2.0, 'gust_kph': 3.2, 'uv': 5.0}, {'time_epoch': 1655647200, 'time': '2022-06-19 07:00', 'temp_c': 17.7, 'temp_f': 63.9, 'is_day': 1, 'condition': {'text': 'Sunny', 'icon': '//cdn.weatherapi.com/weather/64x64/day/113.png', 'code': 1000}, 'wind_mph': 2.2, 'wind_kph': 3.6, 'wind_degree': 241, 'wind_dir': 'WSW', 'pressure_mb': 1015.0, 'pressure_in': 29.96, 'precip_mm': 0.0, 'precip_in': 0.0, 'humidity': 57, 'cloud': 0, 'feelslike_c': 17.7, 'feelslike_f': 63.9, 'windchill_c': 17.7, 'windchill_f': 63.9, 'heatindex_c': 17.7, 'heatindex_f': 63.9, 'dewpoint_c': 9.1, 'dewpoint_f': 48.4, 'will_it_rain': 0, 'chance_of_rain': 0, 'will_it_snow': 0, 'chance_of_snow': 0, 'vis_km': 10.0, 'vis_miles': 6.0, 'gust_mph': 2.5, 'gust_kph': 4.0, 'uv': 5.0}, {'time_epoch': 1655650800, 'time': '2022-06-19 08:00', 'temp_c': 19.4, 'temp_f': 66.9, 'is_day': 1, 'condition': {'text': 'Sunny', 'icon': '//cdn.weatherapi.com/weather/64x64/day/113.png', 'code': 1000}, 'wind_mph': 3.8, 'wind_kph': 6.1, 'wind_degree': 260, 'wind_dir': 'W', 'pressure_mb': 1015.0, 'pressure_in': 29.96, 'precip_mm': 0.0, 'precip_in': 0.0, 'humidity': 50, 'cloud': 0, 'feelslike_c': 19.4, 'feelslike_f': 66.9, 'windchill_c': 19.4, 'windchill_f': 66.9, 'heatindex_c': 19.4, 'heatindex_f': 66.9, 'dewpoint_c': 8.8, 'dewpoint_f': 47.8, 'will_it_rain': 0, 'chance_of_rain': 0, 'will_it_snow': 0, 'chance_of_snow': 0, 'vis_km': 10.0, 'vis_miles': 6.0, 'gust_mph': 4.5, 'gust_kph': 7.2, 'uv': 5.0}, {'time_epoch': 1655654400, 'time': '2022-06-19 09:00', 'temp_c': 21.1, 'temp_f': 70.0, 'is_day': 1, 'condition': {'text': 'Sunny', 'icon': '//cdn.weatherapi.com/weather/64x64/day/113.png', 'code': 1000}, 'wind_mph': 5.1, 'wind_kph': 8.3, 'wind_degree': 251, 'wind_dir': 'WSW', 'pressure_mb': 1015.0, 'pressure_in': 29.96, 'precip_mm': 0.0, 'precip_in': 0.0, 'humidity': 42, 'cloud': 0, 'feelslike_c': 21.1, 'feelslike_f': 70.0, 'windchill_c': 21.1, 'windchill_f': 70.0, 'heatindex_c': 24.0, 'heatindex_f': 75.2, 'dewpoint_c': 7.8, 'dewpoint_f': 46.0, 'will_it_rain': 0, 'chance_of_rain': 0, 'will_it_snow': 0, 'chance_of_snow': 0, 'vis_km': 10.0, 'vis_miles': 6.0, 'gust_mph': 5.8, 'gust_kph': 9.4, 'uv': 6.0}, {'time_epoch': 1655658000, 'time': '2022-06-19 10:00', 'temp_c': 23.1, 'temp_f': 73.6, 'is_day': 1, 'condition': {'text': 'Sunny', 'icon': '//cdn.weatherapi.com/weather/64x64/day/113.png', 'code': 1000}, 'wind_mph': 6.3, 'wind_kph': 10.1, 'wind_degree': 242, 'wind_dir': 'WSW', 'pressure_mb': 1014.0, 'pressure_in': 29.95, 'precip_mm': 0.0, 'precip_in': 0.0, 'humidity': 34, 'cloud': 0, 'feelslike_c': 24.0, 'feelslike_f': 75.2, 'windchill_c': 23.1, 'windchill_f': 73.6, 'heatindex_c': 24.0, 'heatindex_f': 75.2, 'dewpoint_c': 6.6, 'dewpoint_f': 43.9, 'will_it_rain': 0, 'chance_of_rain': 0, 'will_it_snow': 0, 'chance_of_snow': 0, 'vis_km': 10.0, 'vis_miles': 6.0, 'gust_mph': 7.2, 'gust_kph': 11.5, 'uv': 6.0}, {'time_epoch': 1655661600, 'time': '2022-06-19 11:00', 'temp_c': 26.0, 'temp_f': 78.8, 'is_day': 1, 'condition': {'text': 'Sunny', 'icon': '//cdn.weatherapi.com/weather/64x64/day/113.png', 'code': 1000}, 'wind_mph': 7.4, 'wind_kph': 11.9, 'wind_degree': 232, 'wind_dir': 'SW', 'pressure_mb': 1014.0, 'pressure_in': 29.94, 'precip_mm': 0.0, 'precip_in': 0.0, 'humidity': 28, 'cloud': 0, 'feelslike_c': 25.2, 'feelslike_f': 77.4, 'windchill_c': 26.0, 'windchill_f': 78.8, 'heatindex_c': 25.2, 'heatindex_f': 77.4, 'dewpoint_c': 6.3, 'dewpoint_f': 43.3, 'will_it_rain': 0, 'chance_of_rain': 0, 'will_it_snow': 0, 'chance_of_snow': 0, 'vis_km': 10.0, 'vis_miles': 6.0, 'gust_mph': 8.5, 'gust_kph': 13.7, 'uv': 7.0}, {'time_epoch': 1655665200, 'time': '2022-06-19 12:00', 'temp_c': 27.5, 'temp_f': 81.5, 'is_day': 1, 'condition': {'text': 'Sunny', 'icon': '//cdn.weatherapi.com/weather/64x64/day/113.png', 'code': 1000}, 'wind_mph': 8.9, 'wind_kph': 14.4, 'wind_degree': 226, 'wind_dir': 'SW', 'pressure_mb': 1014.0, 'pressure_in': 29.93, 'precip_mm': 0.0, 'precip_in': 0.0, 'humidity': 26, 'cloud': 0, 'feelslike_c': 26.2, 'feelslike_f': 79.2, 'windchill_c': 27.5, 'windchill_f': 81.5, 'heatindex_c': 26.2, 'heatindex_f': 79.2, 'dewpoint_c': 6.2, 'dewpoint_f': 43.2, 'will_it_rain': 0, 'chance_of_rain': 0, 'will_it_snow': 0, 'chance_of_snow': 0, 'vis_km': 10.0, 'vis_miles': 6.0, 'gust_mph': 10.3, 'gust_kph': 16.6, 'uv': 7.0}, {'time_epoch': 1655668800, 'time': '2022-06-19 13:00', 'temp_c': 26.9, 'temp_f': 80.4, 'is_day': 1, 'condition': {'text': 'Sunny', 'icon': '//cdn.weatherapi.com/weather/64x64/day/113.png', 'code': 1000}, 'wind_mph': 10.7, 'wind_kph': 17.3, 'wind_degree': 231, 'wind_dir': 'SW', 'pressure_mb': 1013.0, 'pressure_in': 29.92, 'precip_mm': 0.0, 'precip_in': 0.0, 'humidity': 27, 'cloud': 0, 'feelslike_c': 25.8, 'feelslike_f': 78.4, 'windchill_c': 26.9, 'windchill_f': 80.4, 'heatindex_c': 25.8, 'heatindex_f': 78.4, 'dewpoint_c': 6.2, 'dewpoint_f': 43.2, 'will_it_rain': 0, 'chance_of_rain': 0, 'will_it_snow': 0, 'chance_of_snow': 0, 'vis_km': 10.0, 'vis_miles': 6.0, 'gust_mph': 12.3, 'gust_kph': 19.8, 'uv': 7.0}, {'time_epoch': 1655672400, 'time': '2022-06-19 14:00', 'temp_c': 29.7, 'temp_f': 85.5, 'is_day': 1, 'condition': {'text': 'Sunny', 'icon': '//cdn.weatherapi.com/weather/64x64/day/113.png', 'code': 1000}, 'wind_mph': 11.4, 'wind_kph': 18.4, 'wind_degree': 237, 'wind_dir': 'WSW', 'pressure_mb': 1013.0, 'pressure_in': 29.91, 'precip_mm': 0.0, 'precip_in': 0.0, 'humidity': 28, 'cloud': 0, 'feelslike_c': 28.4, 'feelslike_f': 83.1, 'windchill_c': 29.7, 'windchill_f': 85.5, 'heatindex_c': 28.4, 'heatindex_f': 83.1, 'dewpoint_c': 9.3, 'dewpoint_f': 48.7, 'will_it_rain': 0, 'chance_of_rain': 0, 'will_it_snow': 0, 'chance_of_snow': 0, 'vis_km': 10.0, 'vis_miles': 6.0, 'gust_mph': 13.2, 'gust_kph': 21.2, 'uv': 7.0}, {'time_epoch': 1655676000, 'time': '2022-06-19 15:00', 'temp_c': 29.7, 'temp_f': 85.5, 'is_day': 1, 'condition': {'text': 'Sunny', 'icon': '//cdn.weatherapi.com/weather/64x64/day/113.png', 'code': 1000}, 'wind_mph': 11.6, 'wind_kph': 18.7, 'wind_degree': 239, 'wind_dir': 'WSW', 'pressure_mb': 1012.0, 'pressure_in': 29.89, 'precip_mm': 0.0, 'precip_in': 0.0, 'humidity': 29, 'cloud': 0, 'feelslike_c': 28.5, 'feelslike_f': 83.3, 'windchill_c': 29.7, 'windchill_f': 85.5, 'heatindex_c': 28.5, 'heatindex_f': 83.3, 'dewpoint_c': 9.9, 'dewpoint_f': 49.8, 'will_it_rain': 0, 'chance_of_rain': 0, 'will_it_snow': 0, 'chance_of_snow': 0, 'vis_km': 10.0, 'vis_miles': 6.0, 'gust_mph': 13.4, 'gust_kph': 21.6, 'uv': 7.0}, {'time_epoch': 1655679600, 'time': '2022-06-19 16:00', 'temp_c': 29.3, 'temp_f': 84.7, 'is_day': 1, 'condition': {'text': 'Sunny', 'icon': '//cdn.weatherapi.com/weather/64x64/day/113.png', 'code': 1000}, 'wind_mph': 11.4, 'wind_kph': 18.4, 'wind_degree': 241, 'wind_dir': 'WSW', 'pressure_mb': 1012.0, 'pressure_in': 29.88, 'precip_mm': 0.0, 'precip_in': 0.0, 'humidity': 31, 'cloud': 0, 'feelslike_c': 28.3, 'feelslike_f': 82.9, 'windchill_c': 29.3, 'windchill_f': 84.7, 'heatindex_c': 28.3, 'heatindex_f': 82.9, 'dewpoint_c': 10.3, 'dewpoint_f': 50.5, 'will_it_rain': 0, 'chance_of_rain': 0, 'will_it_snow': 0, 'chance_of_snow': 0, 'vis_km': 10.0, 'vis_miles': 6.0, 'gust_mph': 13.2, 'gust_kph': 21.2, 'uv': 7.0}, {'time_epoch': 1655683200, 'time': '2022-06-19 17:00', 'temp_c': 25.9, 'temp_f': 78.6, 'is_day': 1, 'condition': {'text': 'Sunny', 'icon': '//cdn.weatherapi.com/weather/64x64/day/113.png', 'code': 1000}, 'wind_mph': 10.3, 'wind_kph': 16.6, 'wind_degree': 242, 'wind_dir': 'WSW', 'pressure_mb': 1012.0, 'pressure_in': 29.87, 'precip_mm': 0.0, 'precip_in': 0.0, 'humidity': 32, 'cloud': 0, 'feelslike_c': 25.5, 'feelslike_f': 77.9, 'windchill_c': 25.9, 'windchill_f': 78.6, 'heatindex_c': 25.5, 'heatindex_f': 77.9, 'dewpoint_c': 8.2, 'dewpoint_f': 46.8, 'will_it_rain': 0, 'chance_of_rain': 0, 'will_it_snow': 0, 'chance_of_snow': 0, 'vis_km': 10.0, 'vis_miles': 6.0, 'gust_mph': 11.9, 'gust_kph': 19.1, 'uv': 7.0}, {'time_epoch': 1655686800, 'time': '2022-06-19 18:00', 'temp_c': 26.2, 'temp_f': 79.2, 'is_day': 1, 'condition': {'text': 'Sunny', 'icon': '//cdn.weatherapi.com/weather/64x64/day/113.png', 'code': 1000}, 'wind_mph': 8.9, 'wind_kph': 14.4, 'wind_degree': 239, 'wind_dir': 'WSW', 'pressure_mb': 1011.0, 'pressure_in': 29.86, 'precip_mm': 0.0, 'precip_in': 0.0, 'humidity': 34, 'cloud': 0, 'feelslike_c': 25.8, 'feelslike_f': 78.4, 'windchill_c': 26.2, 'windchill_f': 79.2, 'heatindex_c': 25.8, 'heatindex_f': 78.4, 'dewpoint_c': 9.2, 'dewpoint_f': 48.6, 'will_it_rain': 0, 'chance_of_rain': 0, 'will_it_snow': 0, 'chance_of_snow': 0, 'vis_km': 10.0, 'vis_miles': 6.0, 'gust_mph': 10.3, 'gust_kph': 16.6, 'uv': 7.0}, {'time_epoch': 1655690400, 'time': '2022-06-19 19:00', 'temp_c': 26.5, 'temp_f': 79.7, 'is_day': 1, 'condition': {'text': 'Sunny', 'icon': '//cdn.weatherapi.com/weather/64x64/day/113.png', 'code': 1000}, 'wind_mph': 7.2, 'wind_kph': 11.5, 'wind_degree': 238, 'wind_dir': 'WSW', 'pressure_mb': 1012.0, 'pressure_in': 29.88, 'precip_mm': 0.0, 'precip_in': 0.0, 'humidity': 36, 'cloud': 0, 'feelslike_c': 26.2, 'feelslike_f': 79.2, 'windchill_c': 26.5, 'windchill_f': 79.7, 'heatindex_c': 26.2, 'heatindex_f': 79.2, 'dewpoint_c': 10.3, 'dewpoint_f': 50.5, 'will_it_rain': 0, 'chance_of_rain': 0, 'will_it_snow': 0, 'chance_of_snow': 0, 'vis_km': 10.0, 'vis_miles': 6.0, 'gust_mph': 8.3, 'gust_kph': 13.3, 'uv': 7.0}, {'time_epoch': 1655694000, 'time': '2022-06-19 20:00', 'temp_c': 22.3, 'temp_f': 72.1, 'is_day': 1, 'condition': {'text': 'Sunny', 'icon': '//cdn.weatherapi.com/weather/64x64/day/113.png', 'code': 1000}, 'wind_mph': 5.4, 'wind_kph': 8.6, 'wind_degree': 239, 'wind_dir': 'WSW', 'pressure_mb': 1012.0, 'pressure_in': 29.89, 'precip_mm': 0.0, 'precip_in': 0.0, 'humidity': 41, 'cloud': 0, 'feelslike_c': 24.1, 'feelslike_f': 75.4, 'windchill_c': 22.3, 'windchill_f': 72.1, 'heatindex_c': 24.1, 'heatindex_f': 75.4, 'dewpoint_c': 8.2, 'dewpoint_f': 46.8, 'will_it_rain': 0, 'chance_of_rain': 0, 'will_it_snow': 0, 'chance_of_snow': 0, 'vis_km': 10.0, 'vis_miles': 6.0, 'gust_mph': 6.7, 'gust_kph': 10.8, 'uv': 6.0}, {'time_epoch': 1655697600, 'time': '2022-06-19 21:00', 'temp_c': 21.8, 'temp_f': 71.2, 'is_day': 0, 'condition': {'text': 'Clear', 'icon': '//cdn.weatherapi.com/weather/64x64/night/113.png', 'code': 1000}, 'wind_mph': 2.7, 'wind_kph': 4.3, 'wind_degree': 225, 'wind_dir': 'SW', 'pressure_mb': 1012.0, 'pressure_in': 29.9, 'precip_mm': 0.0, 'precip_in': 0.0, 'humidity': 41, 'cloud': 0, 'feelslike_c': 21.8, 'feelslike_f': 71.2, 'windchill_c': 21.8, 'windchill_f': 71.2, 'heatindex_c': 24.0, 'heatindex_f': 75.2, 'dewpoint_c': 7.9, 'dewpoint_f': 46.2, 'will_it_rain': 0, 'chance_of_rain': 0, 'will_it_snow': 0, 'chance_of_snow': 0, 'vis_km': 10.0, 'vis_miles': 6.0, 'gust_mph': 3.6, 'gust_kph': 5.8, 'uv': 1.0}, {'time_epoch': 1655701200, 'time': '2022-06-19 22:00', 'temp_c': 21.5, 'temp_f': 70.7, 'is_day': 0, 'condition': {'text': 'Clear', 'icon': '//cdn.weatherapi.com/weather/64x64/night/113.png', 'code': 1000}, 'wind_mph': 2.2, 'wind_kph': 3.6, 'wind_degree': 180, 'wind_dir': 'S', 'pressure_mb': 1013.0, 'pressure_in': 29.91, 'precip_mm': 0.0, 'precip_in': 0.0, 'humidity': 39, 'cloud': 0, 'feelslike_c': 21.5, 'feelslike_f': 70.7, 'windchill_c': 21.5, 'windchill_f': 70.7, 'heatindex_c': 23.9, 'heatindex_f': 75.0, 'dewpoint_c': 7.1, 'dewpoint_f': 44.8, 'will_it_rain': 0, 'chance_of_rain': 0, 'will_it_snow': 0, 'chance_of_snow': 0, 'vis_km': 10.0, 'vis_miles': 6.0, 'gust_mph': 3.1, 'gust_kph': 5.0, 'uv': 1.0}, {'time_epoch': 1655704800, 'time': '2022-06-19 23:00', 'temp_c': 20.9, 'temp_f': 69.6, 'is_day': 0, 'condition': {'text': 'Clear', 'icon': '//cdn.weatherapi.com/weather/64x64/night/113.png', 'code': 1000}, 'wind_mph': 2.9, 'wind_kph': 4.7, 'wind_degree': 151, 'wind_dir': 'SSE', 'pressure_mb': 1013.0, 'pressure_in': 29.91, 'precip_mm': 0.0, 'precip_in': 0.0, 'humidity': 40, 'cloud': 0, 'feelslike_c': 20.9, 'feelslike_f': 69.6, 'windchill_c': 20.9, 'windchill_f': 69.6, 'heatindex_c': 20.9, 'heatindex_f': 69.6, 'dewpoint_c': 6.8, 'dewpoint_f': 44.2, 'will_it_rain': 0, 'chance_of_rain': 0, 'will_it_snow': 0, 'chance_of_snow': 0, 'vis_km': 10.0, 'vis_miles': 6.0, 'gust_mph': 4.3, 'gust_kph': 6.8, 'uv': 1.0}]}, {'date': '2022-06-20', 'date_epoch': 1655683200, 'day': {'maxtemp_c': 36.0, 'maxtemp_f': 96.8, 'mintemp_c': 18.0, 'mintemp_f': 64.4, 'avgtemp_c': 26.1, 'avgtemp_f': 79.1, 'maxwind_mph': 10.1, 'maxwind_kph': 16.2, 'totalprecip_mm': 0.0, 'totalprecip_in': 0.0, 'avgvis_km': 10.0, 'avgvis_miles': 6.0, 'avghumidity': 28.0, 'daily_will_it_rain': 0, 'daily_chance_of_rain': 0, 'daily_will_it_snow': 0, 'daily_chance_of_snow': 0, 'condition': {'text': 'Sunny', 'icon': '//cdn.weatherapi.com/weather/64x64/day/113.png', 'code': 1000}, 'uv': 10.0}, 'astro': {'sunrise': '05:42 AM', 'sunset': '08:07 PM', 'moonrise': '12:49 AM', 'moonset': '12:30 PM', 'moon_phase': 'Last Quarter', 'moon_illumination': '48'}, 'hour': [{'time_epoch': 1655708400, 'time': '2022-06-20 00:00', 'temp_c': 19.9, 'temp_f': 67.8, 'is_day': 0, 'condition': {'text': 'Clear', 'icon': '//cdn.weatherapi.com/weather/64x64/night/113.png', 'code': 1000}, 'wind_mph': 2.7, 'wind_kph': 4.3, 'wind_degree': 135, 'wind_dir': 'SE', 'pressure_mb': 1013.0, 'pressure_in': 29.91, 'precip_mm': 0.0, 'precip_in': 0.0, 'humidity': 42, 'cloud': 0, 'feelslike_c': 19.9, 'feelslike_f': 67.8, 'windchill_c': 19.9, 'windchill_f': 67.8, 'heatindex_c': 19.9, 'heatindex_f': 67.8, 'dewpoint_c': 6.8, 'dewpoint_f': 44.2, 'will_it_rain': 0, 'chance_of_rain': 0, 'will_it_snow': 0, 'chance_of_snow': 0, 'vis_km': 10.0, 'vis_miles': 6.0, 'gust_mph': 4.5, 'gust_kph': 7.2, 'uv': 1.0}, {'time_epoch': 1655712000, 'time': '2022-06-20 01:00', 'temp_c': 19.3, 'temp_f': 66.7, 'is_day': 0, 'condition': {'text': 'Clear', 'icon': '//cdn.weatherapi.com/weather/64x64/night/113.png', 'code': 1000}, 'wind_mph': 1.8, 'wind_kph': 2.9, 'wind_degree': 132, 'wind_dir': 'SE', 'pressure_mb': 1013.0, 'pressure_in': 29.9, 'precip_mm': 0.0, 'precip_in': 0.0, 'humidity': 44, 'cloud': 0, 'feelslike_c': 19.3, 'feelslike_f': 66.7, 'windchill_c': 19.3, 'windchill_f': 66.7, 'heatindex_c': 19.3, 'heatindex_f': 66.7, 'dewpoint_c': 6.8, 'dewpoint_f': 44.2, 'will_it_rain': 0, 'chance_of_rain': 0, 'will_it_snow': 0, 'chance_of_snow': 0, 'vis_km': 10.0, 'vis_miles': 6.0, 'gust_mph': 3.1, 'gust_kph': 5.0, 'uv': 1.0}, {'time_epoch': 1655715600, 'time': '2022-06-20 02:00', 'temp_c': 19.0, 'temp_f': 66.2, 'is_day': 0, 'condition': {'text': 'Clear', 'icon': '//cdn.weatherapi.com/weather/64x64/night/113.png', 'code': 1000}, 'wind_mph': 0.9, 'wind_kph': 1.4, 'wind_degree': 132, 'wind_dir': 'SE', 'pressure_mb': 1012.0, 'pressure_in': 29.89, 'precip_mm': 0.0, 'precip_in': 0.0, 'humidity': 44, 'cloud': 0, 'feelslike_c': 19.0, 'feelslike_f': 66.2, 'windchill_c': 19.0, 'windchill_f': 66.2, 'heatindex_c': 19.0, 'heatindex_f': 66.2, 'dewpoint_c': 6.6, 'dewpoint_f': 43.9, 'will_it_rain': 0, 'chance_of_rain': 0, 'will_it_snow': 0, 'chance_of_snow': 0, 'vis_km': 10.0, 'vis_miles': 6.0, 'gust_mph': 1.6, 'gust_kph': 2.5, 'uv': 1.0}, {'time_epoch': 1655719200, 'time': '2022-06-20 03:00', 'temp_c': 18.5, 'temp_f': 65.3, 'is_day': 0, 'condition': {'text': 'Clear', 'icon': '//cdn.weatherapi.com/weather/64x64/night/113.png', 'code': 1000}, 'wind_mph': 0.7, 'wind_kph': 1.1, 'wind_degree': 193, 'wind_dir': 'SSW', 'pressure_mb': 1012.0, 'pressure_in': 29.89, 'precip_mm': 0.0, 'precip_in': 0.0, 'humidity': 44, 'cloud': 0, 'feelslike_c': 18.5, 'feelslike_f': 65.3, 'windchill_c': 18.5, 'windchill_f': 65.3, 'heatindex_c': 18.5, 'heatindex_f': 65.3, 'dewpoint_c': 6.2, 'dewpoint_f': 43.2, 'will_it_rain': 0, 'chance_of_rain': 0, 'will_it_snow': 0, 'chance_of_snow': 0, 'vis_km': 10.0, 'vis_miles': 6.0, 'gust_mph': 1.3, 'gust_kph': 2.2, 'uv': 1.0}, {'time_epoch': 1655722800, 'time': '2022-06-20 04:00', 'temp_c': 18.2, 'temp_f': 64.8, 'is_day': 0, 'condition': {'text': 'Clear', 'icon': '//cdn.weatherapi.com/weather/64x64/night/113.png', 'code': 1000}, 'wind_mph': 0.9, 'wind_kph': 1.4, 'wind_degree': 253, 'wind_dir': 'WSW', 'pressure_mb': 1012.0, 'pressure_in': 29.89, 'precip_mm': 0.0, 'precip_in': 0.0, 'humidity': 45, 'cloud': 0, 'feelslike_c': 18.2, 'feelslike_f': 64.8, 'windchill_c': 18.2, 'windchill_f': 64.8, 'heatindex_c': 18.2, 'heatindex_f': 64.8, 'dewpoint_c': 6.2, 'dewpoint_f': 43.2, 'will_it_rain': 0, 'chance_of_rain': 0, 'will_it_snow': 0, 'chance_of_snow': 0, 'vis_km': 10.0, 'vis_miles': 6.0, 'gust_mph': 1.8, 'gust_kph': 2.9, 'uv': 1.0}, {'time_epoch': 1655726400, 'time': '2022-06-20 05:00', 'temp_c': 18.0, 'temp_f': 64.4, 'is_day': 0, 'condition': {'text': 'Clear', 'icon': '//cdn.weatherapi.com/weather/64x64/night/113.png', 'code': 1000}, 'wind_mph': 1.3, 'wind_kph': 2.2, 'wind_degree': 310, 'wind_dir': 'NW', 'pressure_mb': 1012.0, 'pressure_in': 29.88, 'precip_mm': 0.0, 'precip_in': 0.0, 'humidity': 46, 'cloud': 0, 'feelslike_c': 18.0, 'feelslike_f': 64.4, 'windchill_c': 18.0, 'windchill_f': 64.4, 'heatindex_c': 18.0, 'heatindex_f': 64.4, 'dewpoint_c': 6.1, 'dewpoint_f': 43.0, 'will_it_rain': 0, 'chance_of_rain': 0, 'will_it_snow': 0, 'chance_of_snow': 0, 'vis_km': 10.0, 'vis_miles': 6.0, 'gust_mph': 2.7, 'gust_kph': 4.3, 'uv': 1.0}, {'time_epoch': 1655730000, 'time': '2022-06-20 06:00', 'temp_c': 18.0, 'temp_f': 64.4, 'is_day': 1, 'condition': {'text': 'Sunny', 'icon': '//cdn.weatherapi.com/weather/64x64/day/113.png', 'code': 1000}, 'wind_mph': 1.8, 'wind_kph': 2.9, 'wind_degree': 328, 'wind_dir': 'NNW', 'pressure_mb': 1012.0, 'pressure_in': 29.88, 'precip_mm': 0.0, 'precip_in': 0.0, 'humidity': 45, 'cloud': 0, 'feelslike_c': 18.0, 'feelslike_f': 64.4, 'windchill_c': 18.0, 'windchill_f': 64.4, 'heatindex_c': 18.0, 'heatindex_f': 64.4, 'dewpoint_c': 5.8, 'dewpoint_f': 42.4, 'will_it_rain': 0, 'chance_of_rain': 0, 'will_it_snow': 0, 'chance_of_snow': 0, 'vis_km': 10.0, 'vis_miles': 6.0, 'gust_mph': 3.8, 'gust_kph': 6.1, 'uv': 5.0}, {'time_epoch': 1655733600, 'time': '2022-06-20 07:00', 'temp_c': 20.3, 'temp_f': 68.5, 'is_day': 1, 'condition': {'text': 'Sunny', 'icon': '//cdn.weatherapi.com/weather/64x64/day/113.png', 'code': 1000}, 'wind_mph': 1.6, 'wind_kph': 2.5, 'wind_degree': 327, 'wind_dir': 'NNW', 'pressure_mb': 1012.0, 'pressure_in': 29.89, 'precip_mm': 0.0, 'precip_in': 0.0, 'humidity': 40, 'cloud': 0, 'feelslike_c': 20.3, 'feelslike_f': 68.5, 'windchill_c': 20.3, 'windchill_f': 68.5, 'heatindex_c': 20.3, 'heatindex_f': 68.5, 'dewpoint_c': 6.3, 'dewpoint_f': 43.3, 'will_it_rain': 0, 'chance_of_rain': 0, 'will_it_snow': 0, 'chance_of_snow': 0, 'vis_km': 10.0, 'vis_miles': 6.0, 'gust_mph': 2.5, 'gust_kph': 4.0, 'uv': 6.0}, {'time_epoch': 1655737200, 'time': '2022-06-20 08:00', 'temp_c': 23.5, 'temp_f': 74.3, 'is_day': 1, 'condition': {'text': 'Sunny', 'icon': '//cdn.weatherapi.com/weather/64x64/day/113.png', 'code': 1000}, 'wind_mph': 0.9, 'wind_kph': 1.4, 'wind_degree': 278, 'wind_dir': 'W', 'pressure_mb': 1012.0, 'pressure_in': 29.89, 'precip_mm': 0.0, 'precip_in': 0.0, 'humidity': 33, 'cloud': 0, 'feelslike_c': 24.1, 'feelslike_f': 75.4, 'windchill_c': 23.5, 'windchill_f': 74.3, 'heatindex_c': 24.1, 'heatindex_f': 75.4, 'dewpoint_c': 6.2, 'dewpoint_f': 43.2, 'will_it_rain': 0, 'chance_of_rain': 0, 'will_it_snow': 0, 'chance_of_snow': 0, 'vis_km': 10.0, 'vis_miles': 6.0, 'gust_mph': 1.1, 'gust_kph': 1.8, 'uv': 6.0}, {'time_epoch': 1655740800, 'time': '2022-06-20 09:00', 'temp_c': 25.8, 'temp_f': 78.4, 'is_day': 1, 'condition': {'text': 'Sunny', 'icon': '//cdn.weatherapi.com/weather/64x64/day/113.png', 'code': 1000}, 'wind_mph': 2.0, 'wind_kph': 3.2, 'wind_degree': 263, 'wind_dir': 'W', 'pressure_mb': 1012.0, 'pressure_in': 29.88, 'precip_mm': 0.0, 'precip_in': 0.0, 'humidity': 25, 'cloud': 0, 'feelslike_c': 24.8, 'feelslike_f': 76.6, 'windchill_c': 25.8, 'windchill_f': 78.4, 'heatindex_c': 24.8, 'heatindex_f': 76.6, 'dewpoint_c': 4.4, 'dewpoint_f': 39.9, 'will_it_rain': 0, 'chance_of_rain': 0, 'will_it_snow': 0, 'chance_of_snow': 0, 'vis_km': 10.0, 'vis_miles': 6.0, 'gust_mph': 2.2, 'gust_kph': 3.6, 'uv': 7.0}, {'time_epoch': 1655744400, 'time': '2022-06-20 10:00', 'temp_c': 28.2, 'temp_f': 82.8, 'is_day': 1, 'condition': {'text': 'Sunny', 'icon': '//cdn.weatherapi.com/weather/64x64/day/113.png', 'code': 1000}, 'wind_mph': 2.9, 'wind_kph': 4.7, 'wind_degree': 250, 'wind_dir': 'WSW', 'pressure_mb': 1012.0, 'pressure_in': 29.88, 'precip_mm': 0.0, 'precip_in': 0.0, 'humidity': 18, 'cloud': 0, 'feelslike_c': 26.2, 'feelslike_f': 79.2, 'windchill_c': 28.2, 'windchill_f': 82.8, 'heatindex_c': 26.2, 'heatindex_f': 79.2, 'dewpoint_c': 2.0, 'dewpoint_f': 35.6, 'will_it_rain': 0, 'chance_of_rain': 0, 'will_it_snow': 0, 'chance_of_snow': 0, 'vis_km': 10.0, 'vis_miles': 6.0, 'gust_mph': 3.4, 'gust_kph': 5.4, 'uv': 7.0}, {'time_epoch': 1655748000, 'time': '2022-06-20 11:00', 'temp_c': 33.3, 'temp_f': 91.9, 'is_day': 1, 'condition': {'text': 'Sunny', 'icon': '//cdn.weatherapi.com/weather/64x64/day/113.png', 'code': 1000}, 'wind_mph': 4.3, 'wind_kph': 6.8, 'wind_degree': 243, 'wind_dir': 'WSW', 'pressure_mb': 1011.0, 'pressure_in': 29.87, 'precip_mm': 0.0, 'precip_in': 0.0, 'humidity': 14, 'cloud': 0, 'feelslike_c': 31.2, 'feelslike_f': 88.2, 'windchill_c': 33.3, 'windchill_f': 91.9, 'heatindex_c': 31.2, 'heatindex_f': 88.2, 'dewpoint_c': 2.4, 'dewpoint_f': 36.3, 'will_it_rain': 0, 'chance_of_rain': 0, 'will_it_snow': 0, 'chance_of_snow': 0, 'vis_km': 10.0, 'vis_miles': 6.0, 'gust_mph': 4.9, 'gust_kph': 7.9, 'uv': 8.0}, {'time_epoch': 1655751600, 'time': '2022-06-20 12:00', 'temp_c': 35.0, 'temp_f': 95.0, 'is_day': 1, 'condition': {'text': 'Sunny', 'icon': '//cdn.weatherapi.com/weather/64x64/day/113.png', 'code': 1000}, 'wind_mph': 6.0, 'wind_kph': 9.7, 'wind_degree': 236, 'wind_dir': 'WSW', 'pressure_mb': 1011.0, 'pressure_in': 29.85, 'precip_mm': 0.0, 'precip_in': 0.0, 'humidity': 12, 'cloud': 0, 'feelslike_c': 33.2, 'feelslike_f': 91.8, 'windchill_c': 35.0, 'windchill_f': 95.0, 'heatindex_c': 33.2, 'heatindex_f': 91.8, 'dewpoint_c': 1.2, 'dewpoint_f': 34.2, 'will_it_rain': 0, 'chance_of_rain': 0, 'will_it_snow': 0, 'chance_of_snow': 0, 'vis_km': 10.0, 'vis_miles': 6.0, 'gust_mph': 6.9, 'gust_kph': 11.2, 'uv': 9.0}, {'time_epoch': 1655755200, 'time': '2022-06-20 13:00', 'temp_c': 36.0, 'temp_f': 96.8, 'is_day': 1, 'condition': {'text': 'Sunny', 'icon': '//cdn.weatherapi.com/weather/64x64/day/113.png', 'code': 1000}, 'wind_mph': 8.3, 'wind_kph': 13.3, 'wind_degree': 235, 'wind_dir': 'SW', 'pressure_mb': 1011.0, 'pressure_in': 29.85, 'precip_mm': 0.0, 'precip_in': 0.0, 'humidity': 12, 'cloud': 0, 'feelslike_c': 34.4, 'feelslike_f': 93.9, 'windchill_c': 36.0, 'windchill_f': 96.8, 'heatindex_c': 34.4, 'heatindex_f': 93.9, 'dewpoint_c': 1.6, 'dewpoint_f': 34.9, 'will_it_rain': 0, 'chance_of_rain': 0, 'will_it_snow': 0, 'chance_of_snow': 0, 'vis_km': 10.0, 'vis_miles': 6.0, 'gust_mph': 9.6, 'gust_kph': 15.5, 'uv': 9.0}, {'time_epoch': 1655758800, 'time': '2022-06-20 14:00', 'temp_c': 33.6, 'temp_f': 92.5, 'is_day': 1, 'condition': {'text': 'Sunny', 'icon': '//cdn.weatherapi.com/weather/64x64/day/113.png', 'code': 1000}, 'wind_mph': 9.8, 'wind_kph': 15.8, 'wind_degree': 240, 'wind_dir': 'WSW', 'pressure_mb': 1010.0, 'pressure_in': 29.83, 'precip_mm': 0.0, 'precip_in': 0.0, 'humidity': 12, 'cloud': 0, 'feelslike_c': 31.5, 'feelslike_f': 88.7, 'windchill_c': 33.6, 'windchill_f': 92.5, 'heatindex_c': 31.5, 'heatindex_f': 88.7, 'dewpoint_c': 0.5, 'dewpoint_f': 32.9, 'will_it_rain': 0, 'chance_of_rain': 0, 'will_it_snow': 0, 'chance_of_snow': 0, 'vis_km': 10.0, 'vis_miles': 6.0, 'gust_mph': 11.4, 'gust_kph': 18.4, 'uv': 8.0}, {'time_epoch': 1655762400, 'time': '2022-06-20 15:00', 'temp_c': 33.2, 'temp_f': 91.8, 'is_day': 1, 'condition': {'text': 'Sunny', 'icon': '//cdn.weatherapi.com/weather/64x64/day/113.png', 'code': 1000}, 'wind_mph': 10.1, 'wind_kph': 16.2, 'wind_degree': 241, 'wind_dir': 'WSW', 'pressure_mb': 1010.0, 'pressure_in': 29.82, 'precip_mm': 0.0, 'precip_in': 0.0, 'humidity': 13, 'cloud': 0, 'feelslike_c': 31.1, 'feelslike_f': 88.0, 'windchill_c': 33.2, 'windchill_f': 91.8, 'heatindex_c': 31.1, 'heatindex_f': 88.0, 'dewpoint_c': 1.1, 'dewpoint_f': 34.0, 'will_it_rain': 0, 'chance_of_rain': 0, 'will_it_snow': 0, 'chance_of_snow': 0, 'vis_km': 10.0, 'vis_miles': 6.0, 'gust_mph': 11.6, 'gust_kph': 18.7, 'uv': 8.0}, {'time_epoch': 1655766000, 'time': '2022-06-20 16:00', 'temp_c': 32.9, 'temp_f': 91.2, 'is_day': 1, 'condition': {'text': 'Sunny', 'icon': '//cdn.weatherapi.com/weather/64x64/day/113.png', 'code': 1000}, 'wind_mph': 10.1, 'wind_kph': 16.2, 'wind_degree': 233, 'wind_dir': 'SW', 'pressure_mb': 1009.0, 'pressure_in': 29.8, 'precip_mm': 0.0, 'precip_in': 0.0, 'humidity': 14, 'cloud': 0, 'feelslike_c': 30.8, 'feelslike_f': 87.4, 'windchill_c': 32.9, 'windchill_f': 91.2, 'heatindex_c': 30.8, 'heatindex_f': 87.4, 'dewpoint_c': 1.8, 'dewpoint_f': 35.2, 'will_it_rain': 0, 'chance_of_rain': 0, 'will_it_snow': 0, 'chance_of_snow': 0, 'vis_km': 10.0, 'vis_miles': 6.0, 'gust_mph': 11.6, 'gust_kph': 18.7, 'uv': 8.0}, {'time_epoch': 1655769600, 'time': '2022-06-20 17:00', 'temp_c': 32.3, 'temp_f': 90.1, 'is_day': 1, 'condition': {'text': 'Sunny', 'icon': '//cdn.weatherapi.com/weather/64x64/day/113.png', 'code': 1000}, 'wind_mph': 9.4, 'wind_kph': 15.1, 'wind_degree': 230, 'wind_dir': 'SW', 'pressure_mb': 1009.0, 'pressure_in': 29.8, 'precip_mm': 0.0, 'precip_in': 0.0, 'humidity': 15, 'cloud': 0, 'feelslike_c': 30.1, 'feelslike_f': 86.2, 'windchill_c': 32.3, 'windchill_f': 90.1, 'heatindex_c': 30.1, 'heatindex_f': 86.2, 'dewpoint_c': 2.7, 'dewpoint_f': 36.9, 'will_it_rain': 0, 'chance_of_rain': 0, 'will_it_snow': 0, 'chance_of_snow': 0, 'vis_km': 10.0, 'vis_miles': 6.0, 'gust_mph': 10.7, 'gust_kph': 17.3, 'uv': 8.0}, {'time_epoch': 1655773200, 'time': '2022-06-20 18:00', 'temp_c': 32.5, 'temp_f': 90.5, 'is_day': 1, 'condition': {'text': 'Sunny', 'icon': '//cdn.weatherapi.com/weather/64x64/day/113.png', 'code': 1000}, 'wind_mph': 8.3, 'wind_kph': 13.3, 'wind_degree': 229, 'wind_dir': 'SW', 'pressure_mb': 1009.0, 'pressure_in': 29.79, 'precip_mm': 0.0, 'precip_in': 0.0, 'humidity': 17, 'cloud': 0, 'feelslike_c': 30.3, 'feelslike_f': 86.5, 'windchill_c': 32.5, 'windchill_f': 90.5, 'heatindex_c': 30.3, 'heatindex_f': 86.5, 'dewpoint_c': 4.1, 'dewpoint_f': 39.4, 'will_it_rain': 0, 'chance_of_rain': 0, 'will_it_snow': 0, 'chance_of_snow': 0, 'vis_km': 10.0, 'vis_miles': 6.0, 'gust_mph': 9.6, 'gust_kph': 15.5, 'uv': 8.0}, {'time_epoch': 1655776800, 'time': '2022-06-20 19:00', 'temp_c': 30.3, 'temp_f': 86.5, 'is_day': 1, 'condition': {'text': 'Sunny', 'icon': '//cdn.weatherapi.com/weather/64x64/day/113.png', 'code': 1000}, 'wind_mph': 7.2, 'wind_kph': 11.5, 'wind_degree': 222, 'wind_dir': 'SW', 'pressure_mb': 1009.0, 'pressure_in': 29.81, 'precip_mm': 0.0, 'precip_in': 0.0, 'humidity': 19, 'cloud': 0, 'feelslike_c': 28.1, 'feelslike_f': 82.6, 'windchill_c': 30.3, 'windchill_f': 86.5, 'heatindex_c': 28.1, 'heatindex_f': 82.6, 'dewpoint_c': 4.3, 'dewpoint_f': 39.7, 'will_it_rain': 0, 'chance_of_rain': 0, 'will_it_snow': 0, 'chance_of_snow': 0, 'vis_km': 10.0, 'vis_miles': 6.0, 'gust_mph': 8.3, 'gust_kph': 13.3, 'uv': 8.0}, {'time_epoch': 1655780400, 'time': '2022-06-20 20:00', 'temp_c': 26.7, 'temp_f': 80.1, 'is_day': 1, 'condition': {'text': 'Sunny', 'icon': '//cdn.weatherapi.com/weather/64x64/day/113.png', 'code': 1000}, 'wind_mph': 5.8, 'wind_kph': 9.4, 'wind_degree': 207, 'wind_dir': 'SSW', 'pressure_mb': 1010.0, 'pressure_in': 29.82, 'precip_mm': 0.0, 'precip_in': 0.0, 'humidity': 24, 'cloud': 0, 'feelslike_c': 25.4, 'feelslike_f': 77.7, 'windchill_c': 26.7, 'windchill_f': 80.1, 'heatindex_c': 25.4, 'heatindex_f': 77.7, 'dewpoint_c': 4.5, 'dewpoint_f': 40.1, 'will_it_rain': 0, 'chance_of_rain': 0, 'will_it_snow': 0, 'chance_of_snow': 0, 'vis_km': 10.0, 'vis_miles': 6.0, 'gust_mph': 8.3, 'gust_kph': 13.3, 'uv': 7.0}, {'time_epoch': 1655784000, 'time': '2022-06-20 21:00', 'temp_c': 25.2, 'temp_f': 77.4, 'is_day': 0, 'condition': {'text': 'Clear', 'icon': '//cdn.weatherapi.com/weather/64x64/night/113.png', 'code': 1000}, 'wind_mph': 4.3, 'wind_kph': 6.8, 'wind_degree': 183, 'wind_dir': 'S', 'pressure_mb': 1011.0, 'pressure_in': 29.84, 'precip_mm': 0.0, 'precip_in': 0.0, 'humidity': 28, 'cloud': 0, 'feelslike_c': 24.6, 'feelslike_f': 76.3, 'windchill_c': 25.2, 'windchill_f': 77.4, 'heatindex_c': 24.6, 'heatindex_f': 76.3, 'dewpoint_c': 5.3, 'dewpoint_f': 41.5, 'will_it_rain': 0, 'chance_of_rain': 0, 'will_it_snow': 0, 'chance_of_snow': 0, 'vis_km': 10.0, 'vis_miles': 6.0, 'gust_mph': 6.5, 'gust_kph': 10.4, 'uv': 1.0}, {'time_epoch': 1655787600, 'time': '2022-06-20 22:00', 'temp_c': 24.3, 'temp_f': 75.7, 'is_day': 0, 'condition': {'text': 'Clear', 'icon': '//cdn.weatherapi.com/weather/64x64/night/113.png', 'code': 1000}, 'wind_mph': 3.8, 'wind_kph': 6.1, 'wind_degree': 164, 'wind_dir': 'SSE', 'pressure_mb': 1011.0, 'pressure_in': 29.85, 'precip_mm': 0.0, 'precip_in': 0.0, 'humidity': 31, 'cloud': 0, 'feelslike_c': 24.4, 'feelslike_f': 75.9, 'windchill_c': 24.3, 'windchill_f': 75.7, 'heatindex_c': 24.4, 'heatindex_f': 75.9, 'dewpoint_c': 6.0, 'dewpoint_f': 42.8, 'will_it_rain': 0, 'chance_of_rain': 0, 'will_it_snow': 0, 'chance_of_snow': 0, 'vis_km': 10.0, 'vis_miles': 6.0, 'gust_mph': 6.0, 'gust_kph': 9.7, 'uv': 1.0}, {'time_epoch': 1655791200, 'time': '2022-06-20 23:00', 'temp_c': 23.5, 'temp_f': 74.3, 'is_day': 0, 'condition': {'text': 'Clear', 'icon': '//cdn.weatherapi.com/weather/64x64/night/113.png', 'code': 1000}, 'wind_mph': 2.9, 'wind_kph': 4.7, 'wind_degree': 167, 'wind_dir': 'SSE', 'pressure_mb': 1011.0, 'pressure_in': 29.86, 'precip_mm': 0.0, 'precip_in': 0.0, 'humidity': 34, 'cloud': 0, 'feelslike_c': 24.2, 'feelslike_f': 75.6, 'windchill_c': 23.5, 'windchill_f': 74.3, 'heatindex_c': 24.2, 'heatindex_f': 75.6, 'dewpoint_c': 6.7, 'dewpoint_f': 44.1, 'will_it_rain': 0, 'chance_of_rain': 0, 'will_it_snow': 0, 'chance_of_snow': 0, 'vis_km': 10.0, 'vis_miles': 6.0, 'gust_mph': 4.7, 'gust_kph': 7.6, 'uv': 1.0}]}]}}\n"
     ]
    }
   ],
   "source": [
    "print(forecastdata)"
   ]
  },
  {
   "cell_type": "code",
   "execution_count": 91,
   "metadata": {},
   "outputs": [
    {
     "name": "stdout",
     "output_type": "stream",
     "text": [
      "56% of the moon will be visible tomorrow.\n"
     ]
    }
   ],
   "source": [
    "moonillu = forecastdata['forecast']['forecastday'][1]['astro']['moon_illumination']\n",
    "print(f\"{moonillu}% of the moon will be visible tomorrow.\")"
   ]
  },
  {
   "cell_type": "markdown",
   "metadata": {},
   "source": [
    "4) What's the difference between the high and low temperatures for today?\n",
    "\n",
    "- *Tip: When you requested moon data, you probably overwrote your variables! If so, you'll need to make a new request.*"
   ]
  },
  {
   "cell_type": "code",
   "execution_count": 92,
   "metadata": {},
   "outputs": [
    {
     "name": "stdout",
     "output_type": "stream",
     "text": [
      "The difference between the high and low temperatures for today is 12.2 degrees Celsius.\n"
     ]
    }
   ],
   "source": [
    "todayshigh = forecastdata['forecast']['forecastday'][0]['day']['maxtemp_c']\n",
    "todayslow = forecastdata['forecast']['forecastday'][0]['day']['mintemp_c']\n",
    "todaysdiff = todayshigh - todayslow\n",
    "print(f\"The difference between the high and low temperatures for today is {todaysdiff} degrees Celsius.\")"
   ]
  },
  {
   "cell_type": "code",
   "execution_count": null,
   "metadata": {
    "collapsed": true
   },
   "outputs": [],
   "source": []
  },
  {
   "cell_type": "markdown",
   "metadata": {
    "collapsed": true
   },
   "source": [
    "## 4.5) How can you avoid the \"oh no I don't have the data any more because I made another request\" problem in the future?\n",
    "\n",
    "What variable(s) do you have to rename, and what would you rename them?"
   ]
  },
  {
   "cell_type": "code",
   "execution_count": null,
   "metadata": {},
   "outputs": [],
   "source": [
    "# I renamed them as [city]data and forecastdata"
   ]
  },
  {
   "cell_type": "code",
   "execution_count": null,
   "metadata": {},
   "outputs": [],
   "source": []
  },
  {
   "cell_type": "markdown",
   "metadata": {},
   "source": [
    "## 5) Go through the daily forecasts, printing out the next three days' worth of predictions.\n",
    "\n",
    "I'd like to know the **high temperature** for each day, and whether it's **hot, warm, or cold** (based on what temperatures you think are hot, warm or cold).\n",
    "\n",
    "- *Tip: You'll need to use an `if` statement to say whether it is hot, warm or cold.*"
   ]
  },
  {
   "cell_type": "code",
   "execution_count": 94,
   "metadata": {},
   "outputs": [
    {
     "name": "stdout",
     "output_type": "stream",
     "text": [
      "It's hot.\n",
      "It's hot.\n",
      "It's hot.\n"
     ]
    }
   ],
   "source": [
    "forecastdays = forecastdata['forecast']['forecastday']\n",
    "\n",
    "for days in forecastdays:\n",
    "    todayshigh = days['day']['maxtemp_c']\n",
    "    if todayshigh > 27:\n",
    "        print(\"It's hot.\")\n",
    "    elif todayshigh > 19:\n",
    "        print(\"It's warm.\")\n",
    "    else:\n",
    "        print(\"It's cold.\")"
   ]
  },
  {
   "cell_type": "code",
   "execution_count": null,
   "metadata": {},
   "outputs": [],
   "source": []
  },
  {
   "cell_type": "code",
   "execution_count": null,
   "metadata": {},
   "outputs": [],
   "source": []
  },
  {
   "cell_type": "markdown",
   "metadata": {},
   "source": [
    "## 5b) The question above used to be an entire week, but not any more. Try to re-use the code above to print out seven days.\n",
    "\n",
    "What happens? Can you figure out why it doesn't work?\n",
    "\n",
    "* *Tip: it has to do with the reason you're using an API key - maybe take a look at the \"Air Quality Data\" introduction for a hint? If you can't figure it out right now, no worries.*"
   ]
  },
  {
   "cell_type": "code",
   "execution_count": null,
   "metadata": {},
   "outputs": [],
   "source": [
    "# I'm on the free plan. \n",
    "# \"Depending upon your subscription plan we provide current and 3 day air quality data for the given location in json and xml.\""
   ]
  },
  {
   "cell_type": "code",
   "execution_count": null,
   "metadata": {},
   "outputs": [],
   "source": []
  },
  {
   "cell_type": "code",
   "execution_count": null,
   "metadata": {},
   "outputs": [],
   "source": []
  },
  {
   "cell_type": "markdown",
   "metadata": {},
   "source": [
    "## 6) What will be the hottest day in the next three days? What is the high temperature on that day?"
   ]
  },
  {
   "cell_type": "code",
   "execution_count": 106,
   "metadata": {},
   "outputs": [
    {
     "name": "stdout",
     "output_type": "stream",
     "text": [
      "The hottest day is 2022-06-20 and the high will be 36.0 degrees Celsius.\n"
     ]
    }
   ],
   "source": [
    "high = 0 \n",
    "for days in forecastdays:\n",
    "    todayshigh = days['day']['maxtemp_c']\n",
    "    if todayshigh > high:\n",
    "        high = todayshigh\n",
    "\n",
    "hottestday = \"\"\n",
    "for hotday in forecastdays: \n",
    "    if hotday['day']['maxtemp_c'] == todayshigh:\n",
    "        hottestday = days['date']\n",
    "\n",
    "print(f\"The hottest day is {hottestday} and the high will be {high} degrees Celsius.\")\n"
   ]
  },
  {
   "cell_type": "code",
   "execution_count": null,
   "metadata": {},
   "outputs": [],
   "source": []
  },
  {
   "cell_type": "code",
   "execution_count": null,
   "metadata": {},
   "outputs": [],
   "source": []
  },
  {
   "cell_type": "markdown",
   "metadata": {},
   "source": [
    "## 7) What's the weather looking like for the next 24+ hours in Miami, Florida?\n",
    "\n",
    "I'd like to know the temperature for every hour, and if it's going to have cloud cover of more than 50% say \"{temperature} and cloudy\" instead of just the temperature. \n",
    "\n",
    "- *Tip: You'll only need one day of forecast*"
   ]
  },
  {
   "cell_type": "code",
   "execution_count": null,
   "metadata": {
    "collapsed": true
   },
   "outputs": [],
   "source": []
  },
  {
   "cell_type": "code",
   "execution_count": null,
   "metadata": {
    "collapsed": true
   },
   "outputs": [],
   "source": []
  },
  {
   "cell_type": "code",
   "execution_count": null,
   "metadata": {
    "collapsed": true
   },
   "outputs": [],
   "source": []
  },
  {
   "cell_type": "markdown",
   "metadata": {},
   "source": [
    "## 8) For the next 24-ish hours in Miami, what percent of the time is the temperature above 85 degrees?\n",
    "\n",
    "- *Tip: You might want to read up on [looping patterns](http://jonathansoma.com/lede/foundations-2017/classes/data%20structures/looping-patterns/)*"
   ]
  },
  {
   "cell_type": "code",
   "execution_count": 108,
   "metadata": {},
   "outputs": [],
   "source": [
    "miami = \"http://api.weatherapi.com/v1/forecast.json?key=29872720da6d4e50b6d231629221406&q=Miami&days=1\"\n",
    "miamiresp = requests.get(miami)\n",
    "miamidata = miamiresp.json()\n",
    "\n",
    "print(miamidata['forecast']['forecastday'][0]['hour'][0]['temp_f'])"
   ]
  },
  {
   "cell_type": "code",
   "execution_count": 145,
   "metadata": {},
   "outputs": [
    {
     "name": "stdout",
     "output_type": "stream",
     "text": [
      "It is above 85 degrees 54% of the time.\n"
     ]
    }
   ],
   "source": [
    "miamiday = miamidata['forecast']['forecastday']\n",
    "count = 0\n",
    "hourcount = 0\n",
    "\n",
    "for time in miamiday: \n",
    "    for temperature in time['hour']: \n",
    "        if temperature['temp_f'] > 85: \n",
    "            count = count + 1\n",
    "\n",
    "percent = count/24*100            \n",
    "print(f\"It is above 85 degrees {percent:.0f}% of the time.\")"
   ]
  },
  {
   "cell_type": "code",
   "execution_count": null,
   "metadata": {
    "collapsed": true
   },
   "outputs": [],
   "source": []
  },
  {
   "cell_type": "markdown",
   "metadata": {},
   "source": [
    "## 9) How much will it cost if you need to use 1,500,000 API calls?\n",
    "\n",
    "You are only allowed 1,000,000 API calls each month. If you were really bad at this homework or made some awful loops, WeatherAPI might shut down your free access. \n",
    "\n",
    "* *Tip: this involves looking somewhere that isn't the normal documentation.*"
   ]
  },
  {
   "cell_type": "code",
   "execution_count": null,
   "metadata": {},
   "outputs": [],
   "source": [
    "# $4/month\n",
    "# https://www.weatherapi.com/pricing.aspx"
   ]
  },
  {
   "cell_type": "code",
   "execution_count": null,
   "metadata": {},
   "outputs": [],
   "source": []
  },
  {
   "cell_type": "markdown",
   "metadata": {},
   "source": [
    "## 10) You're too poor to spend more money! What else could you do instead of give them money?\n",
    "\n",
    "* *Tip: I'm not endorsing being sneaky, but newsrooms and students are both generally poverty-stricken.*"
   ]
  },
  {
   "cell_type": "code",
   "execution_count": null,
   "metadata": {},
   "outputs": [],
   "source": [
    "# Make a second account / use a different API key"
   ]
  }
 ],
 "metadata": {
  "kernelspec": {
   "display_name": "Python 3 (ipykernel)",
   "language": "python",
   "name": "python3"
  },
  "language_info": {
   "codemirror_mode": {
    "name": "ipython",
    "version": 3
   },
   "file_extension": ".py",
   "mimetype": "text/x-python",
   "name": "python",
   "nbconvert_exporter": "python",
   "pygments_lexer": "ipython3",
   "version": "3.10.3"
  }
 },
 "nbformat": 4,
 "nbformat_minor": 1
}
