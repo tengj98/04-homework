{
 "cells": [
  {
   "cell_type": "markdown",
   "metadata": {},
   "source": [
    "# Last FM API (Music)\n",
    "\n",
    "Spotify's API is dead to us, so we're using Last.fm's - it's still music, just not as nice of an API.\n",
    "\n",
    "1. Create an account at https://www.last.fm/api/\n",
    "2. Create an \"application\" to get a key: https://www.last.fm/api/account/create\n",
    "    - It isn't a real application, it's just your project\n",
    "    - Name/description doesn't matter, ignore callback key and callback url\n",
    "3. And save the API key that shows up on the next screen\n",
    "\n",
    "You can find documentation at https://www.last.fm/api/\n",
    "\n",
    "The domain for the API is `http://ws.audioscrobbler.com`, so all of your endpoints will be connected to that. To test your API key, check the following URL in your browser: `http://ws.audioscrobbler.com/2.0/?method=artist.search&artist=cher&api_key=XXXXXXXXXXXXXXXXXXXX&format=json` (change the `XXXXXX` to be your API key, of course!).\n",
    "\n",
    "> Last.fm used to be called **AudioScrobbler**, which is why its URLs don't have \"last.fm\" in them.\n",
    "> While we're asking about URLs, notice that the API endpoints have a lot of `?` and `&` in them - these are key/value pairs, kind of like dictionaries, but for URLs instead of Python."
   ]
  },
  {
   "cell_type": "markdown",
   "metadata": {},
   "source": [
    "# FIRST: SETUP"
   ]
  },
  {
   "cell_type": "markdown",
   "metadata": {},
   "source": [
    "## 1) Import the libraries/packages you might need\n",
    "\n",
    "We need a library to read in the data for us! We don't like `urllib2`, so it must be something cooler and better."
   ]
  },
  {
   "cell_type": "code",
   "execution_count": 47,
   "metadata": {},
   "outputs": [],
   "source": [
    "# Import what you need here\n",
    "import requests"
   ]
  },
  {
   "cell_type": "markdown",
   "metadata": {},
   "source": [
    "## 2) Save your API key\n",
    "\n",
    "Write your API key here so you don't forget it - it's the \"api key\" one, not the \"shared secret\" one\n",
    "\n",
    "033e66393e8762abe4495cd2b58d0b0a"
   ]
  },
  {
   "cell_type": "markdown",
   "metadata": {},
   "source": [
    "## 3) The death of an API\n",
    "\n",
    "I used to have some code here that allowed you to display images, but _the images don't work any more._ Let this be an important lesson: when you depend on external services, they can die at any time."
   ]
  },
  {
   "cell_type": "code",
   "execution_count": null,
   "metadata": {},
   "outputs": [],
   "source": []
  },
  {
   "cell_type": "markdown",
   "metadata": {},
   "source": [
    "# NOW: YOUR ASSIGNMENT"
   ]
  },
  {
   "cell_type": "markdown",
   "metadata": {},
   "source": [
    "## 1) Search for and print a list of 50 musicians with `lil` in their name, along with the number of listeners they have\n",
    "\n",
    "There are a lot of musicians with \"Lil\" in their name - it used to be all Lil Wayne and Lil Kim, but we live in a new world now!\n",
    "\n",
    "- *Tip: Remember, the domain for the API is `http://ws.audioscrobbler.com`*\n",
    "- *Tip: Make sure you ask the API for 50 musicians! This involves adding another parameter to the URL - notice they all have a `&` before them. [Read the documentation](http://www.last.fm/api/show/artist.search) to find the parameter's name.* \n",
    "- *Tip: When you are looking at any piece of data - is it a dictionary? Look at the keys! Is it am list? Look at the first element!*\n",
    "- *Tip: LOOK AT THE KEYS. and then the other keys and the other keys and the other keys. It's an ugly series of dictionaries!*"
   ]
  },
  {
   "cell_type": "code",
   "execution_count": 48,
   "metadata": {},
   "outputs": [
    {
     "name": "stdout",
     "output_type": "stream",
     "text": [
      "dict_keys(['opensearch:Query', 'opensearch:totalResults', 'opensearch:startIndex', 'opensearch:itemsPerPage', 'artistmatches', '@attr'])\n"
     ]
    }
   ],
   "source": [
    "url = 'https://ws.audioscrobbler.com/2.0/?method=artist.search&artist=lil&api_key=033e66393e8762abe4495cd2b58d0b0a&format=json&limit=50'\n",
    "response = requests.get(url)\n",
    "data = response.json()\n",
    "\n",
    "print(data['results'].keys())\n",
    "# data['results'].keys() = \n",
    "# dict_keys(['opensearch:Query', 'opensearch:totalResults', 'opensearch:startIndex', 'opensearch:itemsPerPage', 'artistmatches', '@attr'])\n"
   ]
  },
  {
   "cell_type": "code",
   "execution_count": 49,
   "metadata": {
    "scrolled": false
   },
   "outputs": [
    {
     "name": "stdout",
     "output_type": "stream",
     "text": [
      "LIL UZI VERT has 1,009,162 listeners.\n",
      "LIL PEEP has 812,424 listeners.\n",
      "Lil Nas X has 1,375,956 listeners.\n",
      "Lil' Wayne has 3,377,131 listeners.\n",
      "Lily Allen has 2,506,728 listeners.\n",
      "Lil Baby has 621,932 listeners.\n",
      "Lil Tecca has 534,311 listeners.\n",
      "Lil Yachty has 584,783 listeners.\n",
      "lil tjay has 423,988 listeners.\n",
      "Lil Wayne has 691,961 listeners.\n",
      "Lil Durk has 371,973 listeners.\n",
      "lil skies has 383,005 listeners.\n",
      "Lil Darkie has 195,888 listeners.\n",
      "lil Mosey has 468,014 listeners.\n",
      "Lil Ugly Mane has 193,618 listeners.\n",
      "Lil B has 321,462 listeners.\n",
      "LIL PUMP has 409,573 listeners.\n",
      "LIL TRACY has 152,726 listeners.\n",
      "Lil Keed has 189,164 listeners.\n",
      "Lil Dicky has 390,762 listeners.\n",
      "Lil' Kim has 577,205 listeners.\n",
      "Lil Xan has 261,477 listeners.\n",
      "Lilly Wood & The Prick has 434,463 listeners.\n",
      "Lil Loaded has 101,024 listeners.\n",
      "Lilypichu has 67,391 listeners.\n",
      "Lil Jon has 668,811 listeners.\n",
      "LIL GNAR has 157,374 listeners.\n",
      "Lil Jon & The East Side Boyz has 597,906 listeners.\n",
      "lilbubblegum has 78,519 listeners.\n",
      "Lilac has 204,921 listeners.\n",
      "Lil Aaron has 118,749 listeners.\n",
      "Fenne Lily has 211,711 listeners.\n",
      "Lil Eazzyy has 122,019 listeners.\n",
      "Lila Downs has 186,356 listeners.\n",
      "Lil Gotit has 66,476 listeners.\n",
      "LIL BO WEEP has 70,763 listeners.\n",
      "Lily James has 119,323 listeners.\n",
      "Lil Kleine has 70,806 listeners.\n",
      "Lil Revive has 30,012 listeners.\n",
      "Lil Boosie has 421,525 listeners.\n",
      "The Tiger Lillies has 122,106 listeners.\n",
      "LIL DUSTY G has 62,882 listeners.\n",
      "Lil' Kleine has 68,885 listeners.\n",
      "Lil Lotus has 56,807 listeners.\n",
      "Lil Mariko has 65,493 listeners.\n",
      "Lily Chou-Chou has 65,026 listeners.\n",
      "Lil Wyte has 272,351 listeners.\n",
      "Lil Boodang has 66,503 listeners.\n",
      "Lil Candy Paint has 74,806 listeners.\n",
      "Lil' Flip has 361,210 listeners.\n"
     ]
    }
   ],
   "source": [
    "artist_matches = data['results']['artistmatches']\n",
    "\n",
    "for artist in artist_matches['artist']:\n",
    "    artistname = artist['name']\n",
    "    listeners = int(artist['listeners'])\n",
    "    print(f'{artistname} has {listeners:,.0f} listeners.')"
   ]
  },
  {
   "cell_type": "markdown",
   "metadata": {},
   "source": [
    "Your results should begin something like this:\n",
    "    \n",
    "```\n",
    "Lil' Wayne has 3086628 listeners\n",
    "Lily Allen has 2074266 listeners\n",
    "Lil B has 194116 listeners\n",
    "Lilly Wood & The Prick has 359886 listeners\n",
    "Lil Ugly Mane has 31955 listeners\n",
    "LIL UZI VERT has 88517 listeners\n",
    "```"
   ]
  },
  {
   "cell_type": "markdown",
   "metadata": {},
   "source": [
    "## 2) How many listeners does your list have in total?\n",
    "\n",
    "The answer should be roughly **15,000,000**. If it's lower, make sure you have 50 artists instead of 30 artists.\n",
    "\n",
    "- *Tip: What's the data type of the `listeners` count? It's going to cause a problem!*\n",
    "\n",
    "- *Tip: If you were crazy you could use sum and a list comprehension. But you really don't have to!*"
   ]
  },
  {
   "cell_type": "code",
   "execution_count": 50,
   "metadata": {},
   "outputs": [
    {
     "name": "stdout",
     "output_type": "stream",
     "text": [
      "20797461\n"
     ]
    }
   ],
   "source": [
    "sum = 0 \n",
    "\n",
    "for item in artist_matches['artist']:\n",
    "    listeners = int(item['listeners'])\n",
    "    sum = sum + listeners\n",
    "print(sum)"
   ]
  },
  {
   "cell_type": "code",
   "execution_count": null,
   "metadata": {},
   "outputs": [],
   "source": []
  },
  {
   "cell_type": "markdown",
   "metadata": {},
   "source": [
    "## 3) Show each artist's name and the URL to the extra-large image\n",
    "\n",
    "The images don't work any more, but we'll print their URLs out anyway."
   ]
  },
  {
   "cell_type": "markdown",
   "metadata": {},
   "source": [
    "Each artist **has a list of images of different sizes**. We're interested in the second-to-last one, where `size` is `extralarge`. Print their name and use `display_image` to display their extra-large image.\n",
    "\n",
    "- *Tip: The URL should look like this: `https://lastfm-img2.akamaized.net/i/u/300x300/0fc7d7a1812dc79e9925d80382cde594.png`*\n",
    "- *Tip: You can always assume it's the second to the last, or assume it's `extralarge`, or whatever you want to do to find it.*\n",
    "- *Tip: Make sure the URL is correct before you try to display it.*\n",
    "\n",
    "Your output should look something like\n",
    "\n",
    "```\n",
    "Lil' Wayne\n",
    "https://lastfm.freetls.fastly.net/i/u/300x300/2a96cbd8b46e442fc41c2b86b821562f.png\n",
    "---\n",
    "LIL UZI VERT\n",
    "https://lastfm.freetls.fastly.net/i/u/300x300/2a96cbd8b46e442fc41c2b86b821562f.png\n",
    "---\n",
    "Lily Allen\n",
    "https://lastfm.freetls.fastly.net/i/u/300x300/2a96cbd8b46e442fc41c2b86b821562f.png\n",
    "---\n",
    "```\n",
    "\n",
    "(but with more people, obviously)"
   ]
  },
  {
   "cell_type": "code",
   "execution_count": 51,
   "metadata": {
    "scrolled": false
   },
   "outputs": [
    {
     "name": "stdout",
     "output_type": "stream",
     "text": [
      "LIL UZI VERT\n",
      "https://lastfm.freetls.fastly.net/i/u/300x300/2a96cbd8b46e442fc41c2b86b821562f.png\n",
      "---\n",
      "LIL PEEP\n",
      "https://lastfm.freetls.fastly.net/i/u/300x300/2a96cbd8b46e442fc41c2b86b821562f.png\n",
      "---\n",
      "Lil Nas X\n",
      "https://lastfm.freetls.fastly.net/i/u/300x300/2a96cbd8b46e442fc41c2b86b821562f.png\n",
      "---\n",
      "Lil' Wayne\n",
      "https://lastfm.freetls.fastly.net/i/u/300x300/2a96cbd8b46e442fc41c2b86b821562f.png\n",
      "---\n",
      "Lily Allen\n",
      "https://lastfm.freetls.fastly.net/i/u/300x300/2a96cbd8b46e442fc41c2b86b821562f.png\n",
      "---\n",
      "Lil Baby\n",
      "https://lastfm.freetls.fastly.net/i/u/300x300/2a96cbd8b46e442fc41c2b86b821562f.png\n",
      "---\n",
      "Lil Tecca\n",
      "https://lastfm.freetls.fastly.net/i/u/300x300/2a96cbd8b46e442fc41c2b86b821562f.png\n",
      "---\n",
      "Lil Yachty\n",
      "https://lastfm.freetls.fastly.net/i/u/300x300/2a96cbd8b46e442fc41c2b86b821562f.png\n",
      "---\n",
      "lil tjay\n",
      "https://lastfm.freetls.fastly.net/i/u/300x300/2a96cbd8b46e442fc41c2b86b821562f.png\n",
      "---\n",
      "Lil Wayne\n",
      "https://lastfm.freetls.fastly.net/i/u/300x300/2a96cbd8b46e442fc41c2b86b821562f.png\n",
      "---\n",
      "Lil Durk\n",
      "https://lastfm.freetls.fastly.net/i/u/300x300/2a96cbd8b46e442fc41c2b86b821562f.png\n",
      "---\n",
      "lil skies\n",
      "https://lastfm.freetls.fastly.net/i/u/300x300/2a96cbd8b46e442fc41c2b86b821562f.png\n",
      "---\n",
      "Lil Darkie\n",
      "https://lastfm.freetls.fastly.net/i/u/300x300/2a96cbd8b46e442fc41c2b86b821562f.png\n",
      "---\n",
      "lil Mosey\n",
      "https://lastfm.freetls.fastly.net/i/u/300x300/2a96cbd8b46e442fc41c2b86b821562f.png\n",
      "---\n",
      "Lil Ugly Mane\n",
      "https://lastfm.freetls.fastly.net/i/u/300x300/2a96cbd8b46e442fc41c2b86b821562f.png\n",
      "---\n",
      "Lil B\n",
      "https://lastfm.freetls.fastly.net/i/u/300x300/2a96cbd8b46e442fc41c2b86b821562f.png\n",
      "---\n",
      "LIL PUMP\n",
      "https://lastfm.freetls.fastly.net/i/u/300x300/2a96cbd8b46e442fc41c2b86b821562f.png\n",
      "---\n",
      "LIL TRACY\n",
      "https://lastfm.freetls.fastly.net/i/u/300x300/2a96cbd8b46e442fc41c2b86b821562f.png\n",
      "---\n",
      "Lil Keed\n",
      "https://lastfm.freetls.fastly.net/i/u/300x300/2a96cbd8b46e442fc41c2b86b821562f.png\n",
      "---\n",
      "Lil Dicky\n",
      "https://lastfm.freetls.fastly.net/i/u/300x300/2a96cbd8b46e442fc41c2b86b821562f.png\n",
      "---\n",
      "Lil' Kim\n",
      "https://lastfm.freetls.fastly.net/i/u/300x300/2a96cbd8b46e442fc41c2b86b821562f.png\n",
      "---\n",
      "Lil Xan\n",
      "https://lastfm.freetls.fastly.net/i/u/300x300/2a96cbd8b46e442fc41c2b86b821562f.png\n",
      "---\n",
      "Lilly Wood & The Prick\n",
      "https://lastfm.freetls.fastly.net/i/u/300x300/2a96cbd8b46e442fc41c2b86b821562f.png\n",
      "---\n",
      "Lil Loaded\n",
      "https://lastfm.freetls.fastly.net/i/u/300x300/2a96cbd8b46e442fc41c2b86b821562f.png\n",
      "---\n",
      "Lilypichu\n",
      "https://lastfm.freetls.fastly.net/i/u/300x300/2a96cbd8b46e442fc41c2b86b821562f.png\n",
      "---\n",
      "Lil Jon\n",
      "https://lastfm.freetls.fastly.net/i/u/300x300/2a96cbd8b46e442fc41c2b86b821562f.png\n",
      "---\n",
      "LIL GNAR\n",
      "https://lastfm.freetls.fastly.net/i/u/300x300/2a96cbd8b46e442fc41c2b86b821562f.png\n",
      "---\n",
      "Lil Jon & The East Side Boyz\n",
      "https://lastfm.freetls.fastly.net/i/u/300x300/2a96cbd8b46e442fc41c2b86b821562f.png\n",
      "---\n",
      "lilbubblegum\n",
      "https://lastfm.freetls.fastly.net/i/u/300x300/2a96cbd8b46e442fc41c2b86b821562f.png\n",
      "---\n",
      "Lilac\n",
      "https://lastfm.freetls.fastly.net/i/u/300x300/2a96cbd8b46e442fc41c2b86b821562f.png\n",
      "---\n",
      "Lil Aaron\n",
      "https://lastfm.freetls.fastly.net/i/u/300x300/2a96cbd8b46e442fc41c2b86b821562f.png\n",
      "---\n",
      "Fenne Lily\n",
      "https://lastfm.freetls.fastly.net/i/u/300x300/2a96cbd8b46e442fc41c2b86b821562f.png\n",
      "---\n",
      "Lil Eazzyy\n",
      "https://lastfm.freetls.fastly.net/i/u/300x300/2a96cbd8b46e442fc41c2b86b821562f.png\n",
      "---\n",
      "Lila Downs\n",
      "https://lastfm.freetls.fastly.net/i/u/300x300/2a96cbd8b46e442fc41c2b86b821562f.png\n",
      "---\n",
      "Lil Gotit\n",
      "https://lastfm.freetls.fastly.net/i/u/300x300/2a96cbd8b46e442fc41c2b86b821562f.png\n",
      "---\n",
      "LIL BO WEEP\n",
      "https://lastfm.freetls.fastly.net/i/u/300x300/2a96cbd8b46e442fc41c2b86b821562f.png\n",
      "---\n",
      "Lily James\n",
      "https://lastfm.freetls.fastly.net/i/u/300x300/2a96cbd8b46e442fc41c2b86b821562f.png\n",
      "---\n",
      "Lil Kleine\n",
      "https://lastfm.freetls.fastly.net/i/u/300x300/2a96cbd8b46e442fc41c2b86b821562f.png\n",
      "---\n",
      "Lil Revive\n",
      "https://lastfm.freetls.fastly.net/i/u/300x300/2a96cbd8b46e442fc41c2b86b821562f.png\n",
      "---\n",
      "Lil Boosie\n",
      "https://lastfm.freetls.fastly.net/i/u/300x300/2a96cbd8b46e442fc41c2b86b821562f.png\n",
      "---\n",
      "The Tiger Lillies\n",
      "https://lastfm.freetls.fastly.net/i/u/300x300/2a96cbd8b46e442fc41c2b86b821562f.png\n",
      "---\n",
      "LIL DUSTY G\n",
      "https://lastfm.freetls.fastly.net/i/u/300x300/2a96cbd8b46e442fc41c2b86b821562f.png\n",
      "---\n",
      "Lil' Kleine\n",
      "https://lastfm.freetls.fastly.net/i/u/300x300/2a96cbd8b46e442fc41c2b86b821562f.png\n",
      "---\n",
      "Lil Lotus\n",
      "https://lastfm.freetls.fastly.net/i/u/300x300/2a96cbd8b46e442fc41c2b86b821562f.png\n",
      "---\n",
      "Lil Mariko\n",
      "https://lastfm.freetls.fastly.net/i/u/300x300/2a96cbd8b46e442fc41c2b86b821562f.png\n",
      "---\n",
      "Lily Chou-Chou\n",
      "https://lastfm.freetls.fastly.net/i/u/300x300/2a96cbd8b46e442fc41c2b86b821562f.png\n",
      "---\n",
      "Lil Wyte\n",
      "https://lastfm.freetls.fastly.net/i/u/300x300/2a96cbd8b46e442fc41c2b86b821562f.png\n",
      "---\n",
      "Lil Boodang\n",
      "https://lastfm.freetls.fastly.net/i/u/300x300/2a96cbd8b46e442fc41c2b86b821562f.png\n",
      "---\n",
      "Lil Candy Paint\n",
      "https://lastfm.freetls.fastly.net/i/u/300x300/2a96cbd8b46e442fc41c2b86b821562f.png\n",
      "---\n",
      "Lil' Flip\n",
      "https://lastfm.freetls.fastly.net/i/u/300x300/2a96cbd8b46e442fc41c2b86b821562f.png\n",
      "---\n"
     ]
    }
   ],
   "source": [
    "for artist in artist_matches['artist']:\n",
    "    artistname = artist['name']\n",
    "    image = artist['image'][-2]['#text']\n",
    "    print(artistname)\n",
    "    print(image)\n",
    "    print(\"---\")"
   ]
  },
  {
   "cell_type": "markdown",
   "metadata": {},
   "source": [
    "## 4) Find Lil Jon's `mbid` (or anyone else's!).\n",
    "\n",
    "Oftentimes in an API, you can do a few things: you can **search** for items, and you can **see more information** about items. To find more information about the item, you need to use their **unique id**. In this dataset, it's called an `mbid` (MusicBrainz, I think - another company associated with last.fm!).\n",
    "\n",
    "Go through the artists and print their **name and mbid**. Find Lil Jon's `mbid`. I *wanted* Lil Uzi Vert's, but for some reason it isn't there. Then I wanted us to look at Lily Allen's, but I just couldn't bring myself to do that. If you'd rather do someone else, go for it."
   ]
  },
  {
   "cell_type": "code",
   "execution_count": 52,
   "metadata": {},
   "outputs": [
    {
     "name": "stdout",
     "output_type": "stream",
     "text": [
      "LIL UZI VERT\n",
      "\n",
      "---\n",
      "LIL PEEP\n",
      "\n",
      "---\n",
      "Lil Nas X\n",
      "\n",
      "---\n",
      "Lil' Wayne\n",
      "\n",
      "---\n",
      "Lily Allen\n",
      "6e0c7c0e-cba5-4c2c-a652-38f71ef5785d\n",
      "---\n",
      "Lil Baby\n",
      "\n",
      "---\n",
      "Lil Tecca\n",
      "\n",
      "---\n",
      "Lil Yachty\n",
      "\n",
      "---\n",
      "lil tjay\n",
      "\n",
      "---\n",
      "Lil Wayne\n",
      "ac9a487a-d9d2-4f27-bb23-0f4686488345\n",
      "---\n",
      "Lil Durk\n",
      "c9cd225b-4883-428e-82c2-73e0b6282fb6\n",
      "---\n",
      "lil skies\n",
      "\n",
      "---\n",
      "Lil Darkie\n",
      "\n",
      "---\n",
      "lil Mosey\n",
      "\n",
      "---\n",
      "Lil Ugly Mane\n",
      "5f1adfe1-4d07-4141-b181-79e5d379d539\n",
      "---\n",
      "Lil B\n",
      "1550f952-c91b-40d7-9b4d-d26a259ee932\n",
      "---\n",
      "LIL PUMP\n",
      "\n",
      "---\n",
      "LIL TRACY\n",
      "\n",
      "---\n",
      "Lil Keed\n",
      "\n",
      "---\n",
      "Lil Dicky\n",
      "3268f062-6e76-480a-a384-e1dd2a276afb\n",
      "---\n",
      "Lil' Kim\n",
      "bc1b5c95-e6d6-46b5-957a-5e8908b02c1e\n",
      "---\n",
      "Lil Xan\n",
      "\n",
      "---\n",
      "Lilly Wood & The Prick\n",
      "1b72331b-3a97-4981-a81c-eeee9c275d28\n",
      "---\n",
      "Lil Loaded\n",
      "\n",
      "---\n",
      "Lilypichu\n",
      "\n",
      "---\n",
      "Lil Jon\n",
      "a95384b1-6aec-468c-ae0d-8c6daf87c4c2\n",
      "---\n",
      "LIL GNAR\n",
      "\n",
      "---\n",
      "Lil Jon & The East Side Boyz\n",
      "243c6f61-d83b-4459-bebd-5899df0da111\n",
      "---\n",
      "lilbubblegum\n",
      "\n",
      "---\n",
      "Lilac\n",
      "1967c6ce-95a4-48f0-8ac7-abe637524aee\n",
      "---\n",
      "Lil Aaron\n",
      "\n",
      "---\n",
      "Fenne Lily\n",
      "\n",
      "---\n",
      "Lil Eazzyy\n",
      "\n",
      "---\n",
      "Lila Downs\n",
      "ad29ae1c-2eda-4071-9dc8-31910e7e546c\n",
      "---\n",
      "Lil Gotit\n",
      "\n",
      "---\n",
      "LIL BO WEEP\n",
      "\n",
      "---\n",
      "Lily James\n",
      "\n",
      "---\n",
      "Lil Kleine\n",
      "\n",
      "---\n",
      "Lil Revive\n",
      "\n",
      "---\n",
      "Lil Boosie\n",
      "8ba17cf6-bec2-4ae4-9820-b1cda47adc08\n",
      "---\n",
      "The Tiger Lillies\n",
      "3ad4f6ec-253f-4050-8849-ca26266edfb8\n",
      "---\n",
      "LIL DUSTY G\n",
      "\n",
      "---\n",
      "Lil' Kleine\n",
      "\n",
      "---\n",
      "Lil Lotus\n",
      "\n",
      "---\n",
      "Lil Mariko\n",
      "\n",
      "---\n",
      "Lily Chou-Chou\n",
      "5652bb3e-f225-49de-9637-5aa1539b4a7c\n",
      "---\n",
      "Lil Wyte\n",
      "9b5ce0c1-1bc0-4ea2-a8d3-f5ee7af9eda8\n",
      "---\n",
      "Lil Boodang\n",
      "\n",
      "---\n",
      "Lil Candy Paint\n",
      "\n",
      "---\n",
      "Lil' Flip\n",
      "981d39fc-bd00-4cc6-ac67-6410f8b89098\n",
      "---\n"
     ]
    }
   ],
   "source": [
    "for artist in artist_matches['artist']:\n",
    "    artistname = artist['name']\n",
    "    mbid = artist['mbid']\n",
    "    print(artistname)\n",
    "    print(mbid)\n",
    "    print(\"---\")"
   ]
  },
  {
   "cell_type": "markdown",
   "metadata": {
    "collapsed": true
   },
   "source": [
    "## 5) Find the artist's name and bio using their `mbid`.\n",
    "\n",
    "It can either be Lil Jon or whoever you selected above.\n",
    "\n",
    "If you look at the [last.fm documentation](http://www.last.fm/api/show/artist.getInfo), you can see how to use the artist's `mbid` to find more information about them. Print **every tag associated with your artist**.\n",
    "\n",
    "- *Tip: It's a new request to the API*\n",
    "- *Tip: Use the `mbid`, and make sure you delete the `&name=Cher` from the sample endpoint*\n",
    "- *Tip: If you use `print` for the bio it looks a little nicer than it would otherwise*"
   ]
  },
  {
   "cell_type": "code",
   "execution_count": 53,
   "metadata": {},
   "outputs": [
    {
     "name": "stdout",
     "output_type": "stream",
     "text": [
      "Lil Jon\n",
      "Jonathan Mortimer Smith (born January 27, 1971 in Atlanta, Georgia), better known by his stage name Lil Jon, is an American rapper, actor, producer and member of the crunk group Lil Jon & The East Side Boyz. Lil Jon formed the group with friends Big Sam and Lil Bo, and they released five studio albums and have had many hit songs. He's prehaps best known for his iconic single \"Get Low\", which featured the Ying Yang Twins and reached #2 on the Billboard 100. He released his debut solo album, 'Crunk Rock', in June 2010. <a href=\"https://www.last.fm/music/Lil+Jon\">Read more on Last.fm</a>\n"
     ]
    }
   ],
   "source": [
    "liljon = 'https://ws.audioscrobbler.com/2.0/?method=artist.getinfo&mbid=a95384b1-6aec-468c-ae0d-8c6daf87c4c2&api_key=033e66393e8762abe4495cd2b58d0b0a&format=json'\n",
    "liljonresponse = requests.get(liljon)\n",
    "liljondata = liljonresponse.json()\n",
    "\n",
    "print(liljondata['artist']['name'])\n",
    "print(liljondata['artist']['bio']['summary'])"
   ]
  },
  {
   "cell_type": "markdown",
   "metadata": {
    "collapsed": true
   },
   "source": [
    "## 6) Print every tag of that artist"
   ]
  },
  {
   "cell_type": "code",
   "execution_count": 54,
   "metadata": {},
   "outputs": [
    {
     "name": "stdout",
     "output_type": "stream",
     "text": [
      "Crunk\n",
      "Hip-Hop\n",
      "rap\n",
      "Dirty South\n",
      "hip hop\n"
     ]
    }
   ],
   "source": [
    "for tag in liljondata['artist']['tags']['tag']:\n",
    "    print(tag['name'])"
   ]
  },
  {
   "cell_type": "markdown",
   "metadata": {},
   "source": [
    "# GETTING A LITTLE CRAZY\n",
    "\n",
    "So you know your original list of musicians? I want to get tag data for ALL OF THEM. How are we going to do that?\n",
    "\n",
    "## 7) Find the mbids (again)\n",
    "\n",
    "If we have a musician with an mbid of `AAA-AAA-AAA`, we get their info from a url like `http://ws.audioscrobbler.com/blahblah/?api_key=12345&mbid=AAA-AAA-AAA`.\n",
    "\n",
    "|artist|url|\n",
    "|---|---|\n",
    "|`AAA-AAA-AAA`|`http://ws.audioscrobbler.com/blahblah/?api_key=12345&mbid=AAA-AAA-AAA`|\n",
    "|`BBB-BBB-BBB`|`http://ws.audioscrobbler.com/blahblah/?api_key=12345&mbid=BBB-BBB-BBB`|\n",
    "|`CCC-CCC-CCC`|`http://ws.audioscrobbler.com/blahblah/?api_key=12345&mbid=CCC-CCC-CCC`|\n",
    "\n",
    "I guess we should start trying to get a list of all of the mbids.\n",
    "\n",
    "**Loop through your artists, and print out the `mbid` for each artist**\n",
    "\n",
    "- *Tip: You probably need to request your artist search result data again, because you probably saved over `data` with your other API request. Maybe call it `artist_data` this time?*\n",
    "- *Tip: If the artist does NOT have an `mbid`, don't print it.*"
   ]
  },
  {
   "cell_type": "code",
   "execution_count": 55,
   "metadata": {},
   "outputs": [
    {
     "name": "stdout",
     "output_type": "stream",
     "text": [
      "6e0c7c0e-cba5-4c2c-a652-38f71ef5785d\n",
      "ac9a487a-d9d2-4f27-bb23-0f4686488345\n",
      "c9cd225b-4883-428e-82c2-73e0b6282fb6\n",
      "5f1adfe1-4d07-4141-b181-79e5d379d539\n",
      "1550f952-c91b-40d7-9b4d-d26a259ee932\n",
      "3268f062-6e76-480a-a384-e1dd2a276afb\n",
      "bc1b5c95-e6d6-46b5-957a-5e8908b02c1e\n",
      "1b72331b-3a97-4981-a81c-eeee9c275d28\n",
      "a95384b1-6aec-468c-ae0d-8c6daf87c4c2\n",
      "243c6f61-d83b-4459-bebd-5899df0da111\n",
      "1967c6ce-95a4-48f0-8ac7-abe637524aee\n",
      "ad29ae1c-2eda-4071-9dc8-31910e7e546c\n",
      "8ba17cf6-bec2-4ae4-9820-b1cda47adc08\n",
      "3ad4f6ec-253f-4050-8849-ca26266edfb8\n",
      "5652bb3e-f225-49de-9637-5aa1539b4a7c\n",
      "9b5ce0c1-1bc0-4ea2-a8d3-f5ee7af9eda8\n",
      "981d39fc-bd00-4cc6-ac67-6410f8b89098\n"
     ]
    }
   ],
   "source": [
    "for artist in artist_matches['artist']:\n",
    "    if artist['mbid'] != '':\n",
    "        print(artist['mbid'])"
   ]
  },
  {
   "cell_type": "code",
   "execution_count": null,
   "metadata": {},
   "outputs": [],
   "source": []
  },
  {
   "cell_type": "markdown",
   "metadata": {},
   "source": [
    "Your results should look something like\n",
    "\n",
    "```\n",
    "6e0c7c0e-cba5-4c2c-a652-38f71ef5785d\n",
    "1550f952-c91b-40d7-9b4d-d26a259ee932\n",
    "1b72331b-3a97-4981-a81c-eeee9c275d28\n",
    "5f1adfe1-4d07-4141-b181-79e5d379d539\n",
    "a95384b1-6aec-468c-ae0d-8c6daf87c4c2\n",
    "bc1b5c95-e6d6-46b5-957a-5e8908b02c1e\n",
    "243c6f61-d83b-4459-bebd-5899df0da111\n",
    "```"
   ]
  },
  {
   "cell_type": "markdown",
   "metadata": {},
   "source": [
    "## 8) Saving those mbids\n",
    "\n",
    "For those `mbid` values, instead of printing them out, save them to a new list of just mbid values. Call this list `mbids`.\n",
    "\n",
    "- *Tip: Use `.append` to add a single element onto a list*"
   ]
  },
  {
   "cell_type": "code",
   "execution_count": 56,
   "metadata": {},
   "outputs": [
    {
     "name": "stdout",
     "output_type": "stream",
     "text": [
      "['6e0c7c0e-cba5-4c2c-a652-38f71ef5785d', 'ac9a487a-d9d2-4f27-bb23-0f4686488345', 'c9cd225b-4883-428e-82c2-73e0b6282fb6', '5f1adfe1-4d07-4141-b181-79e5d379d539', '1550f952-c91b-40d7-9b4d-d26a259ee932', '3268f062-6e76-480a-a384-e1dd2a276afb', 'bc1b5c95-e6d6-46b5-957a-5e8908b02c1e', '1b72331b-3a97-4981-a81c-eeee9c275d28', 'a95384b1-6aec-468c-ae0d-8c6daf87c4c2', '243c6f61-d83b-4459-bebd-5899df0da111', '1967c6ce-95a4-48f0-8ac7-abe637524aee', 'ad29ae1c-2eda-4071-9dc8-31910e7e546c', '8ba17cf6-bec2-4ae4-9820-b1cda47adc08', '3ad4f6ec-253f-4050-8849-ca26266edfb8', '5652bb3e-f225-49de-9637-5aa1539b4a7c', '9b5ce0c1-1bc0-4ea2-a8d3-f5ee7af9eda8', '981d39fc-bd00-4cc6-ac67-6410f8b89098']\n"
     ]
    }
   ],
   "source": [
    "mbids = []\n",
    "\n",
    "for artist in artist_matches['artist']:\n",
    "    if artist['mbid'] != '':\n",
    "        mbids.append(artist['mbid'])\n",
    "\n",
    "print(mbids)"
   ]
  },
  {
   "cell_type": "markdown",
   "metadata": {},
   "source": [
    "Your results should look something like\n",
    "\n",
    "```['6e0c7c0e-cba5-4c2c-a652-38f71ef5785d',\n",
    " '1550f952-c91b-40d7-9b4d-d26a259ee932',\n",
    " '1b72331b-3a97-4981-a81c-eeee9c275d28',\n",
    " '5f1adfe1-4d07-4141-b181-79e5d379d539',\n",
    " 'a95384b1-6aec-468c-ae0d-8c6daf87c4c2',\n",
    " 'bc1b5c95-e6d6-46b5-957a-5e8908b02c1e',\n",
    " '243c6f61-d83b-4459-bebd-5899df0da111',\n",
    " '8ba17cf6-bec2-4ae4-9820-b1cda47adc08',\n",
    " 'ad29ae1c-2eda-4071-9dc8-31910e7e546c',\n",
    " '3268f062-6e76-480a-a384-e1dd2a276afb',\n",
    " '3ad4f6ec-253f-4050-8849-ca26266edfb8',\n",
    " '9b5ce0c1-1bc0-4ea2-a8d3-f5ee7af9eda8',\n",
    " '981d39fc-bd00-4cc6-ac67-6410f8b89098',\n",
    " 'b89f4c50-72f5-48ce-b08c-a643b191b24f',\n",
    " 'bc21df5c-3d79-479b-b638-8ddb5ecea403',\n",
    " 'c9cd225b-4883-428e-82c2-73e0b6282fb6',\n",
    " '9acaf734-b380-4c48-954c-a2cf1d7990a9',\n",
    " 'd4d5ae85-700c-4a55-8a39-7f923da07ef2',\n",
    " '77fafce8-a32f-4d42-bdce-266bbf913cee',\n",
    " '50ad1cde-1536-4268-a55f-e47a7b8280ab',\n",
    " '9803d120-716d-45ba-9eb7-9a120813f908',\n",
    " 'b27560ea-2783-4a91-be45-9e8711917562',\n",
    " '194e87c9-b3fe-4fbd-82a7-8c54b4dd4c76',\n",
    " 'fd90af91-ed07-4e85-8816-26c954fe5286',\n",
    " '5652bb3e-f225-49de-9637-5aa1539b4a7c']```"
   ]
  },
  {
   "cell_type": "markdown",
   "metadata": {},
   "source": [
    "## 9) Printing our API urls\n",
    "\n",
    "To get tag data for each artist, you need to use those `mbid` values to access their artist page on the API. Loop through the mbids, displying the URL you'll need to access.\n",
    "\n",
    "- *Tip: You don't want to use a comma when printing, because commas add spaces into your text and URLs can't have that*\n",
    "- *Tip: Make sure your URL has `artist.getinfo` in it - if not, you're using the wrong endpoint.*"
   ]
  },
  {
   "cell_type": "code",
   "execution_count": 57,
   "metadata": {},
   "outputs": [
    {
     "name": "stdout",
     "output_type": "stream",
     "text": [
      "['http://ws.audioscrobbler.com/2.0/?method=artist.getinfo&api_key=033e66393e8762abe4495cd2b58d0b0a&format=json&mbid=6e0c7c0e-cba5-4c2c-a652-38f71ef5785d', 'http://ws.audioscrobbler.com/2.0/?method=artist.getinfo&api_key=033e66393e8762abe4495cd2b58d0b0a&format=json&mbid=ac9a487a-d9d2-4f27-bb23-0f4686488345', 'http://ws.audioscrobbler.com/2.0/?method=artist.getinfo&api_key=033e66393e8762abe4495cd2b58d0b0a&format=json&mbid=c9cd225b-4883-428e-82c2-73e0b6282fb6', 'http://ws.audioscrobbler.com/2.0/?method=artist.getinfo&api_key=033e66393e8762abe4495cd2b58d0b0a&format=json&mbid=5f1adfe1-4d07-4141-b181-79e5d379d539', 'http://ws.audioscrobbler.com/2.0/?method=artist.getinfo&api_key=033e66393e8762abe4495cd2b58d0b0a&format=json&mbid=1550f952-c91b-40d7-9b4d-d26a259ee932', 'http://ws.audioscrobbler.com/2.0/?method=artist.getinfo&api_key=033e66393e8762abe4495cd2b58d0b0a&format=json&mbid=3268f062-6e76-480a-a384-e1dd2a276afb', 'http://ws.audioscrobbler.com/2.0/?method=artist.getinfo&api_key=033e66393e8762abe4495cd2b58d0b0a&format=json&mbid=bc1b5c95-e6d6-46b5-957a-5e8908b02c1e', 'http://ws.audioscrobbler.com/2.0/?method=artist.getinfo&api_key=033e66393e8762abe4495cd2b58d0b0a&format=json&mbid=1b72331b-3a97-4981-a81c-eeee9c275d28', 'http://ws.audioscrobbler.com/2.0/?method=artist.getinfo&api_key=033e66393e8762abe4495cd2b58d0b0a&format=json&mbid=a95384b1-6aec-468c-ae0d-8c6daf87c4c2', 'http://ws.audioscrobbler.com/2.0/?method=artist.getinfo&api_key=033e66393e8762abe4495cd2b58d0b0a&format=json&mbid=243c6f61-d83b-4459-bebd-5899df0da111', 'http://ws.audioscrobbler.com/2.0/?method=artist.getinfo&api_key=033e66393e8762abe4495cd2b58d0b0a&format=json&mbid=1967c6ce-95a4-48f0-8ac7-abe637524aee', 'http://ws.audioscrobbler.com/2.0/?method=artist.getinfo&api_key=033e66393e8762abe4495cd2b58d0b0a&format=json&mbid=ad29ae1c-2eda-4071-9dc8-31910e7e546c', 'http://ws.audioscrobbler.com/2.0/?method=artist.getinfo&api_key=033e66393e8762abe4495cd2b58d0b0a&format=json&mbid=8ba17cf6-bec2-4ae4-9820-b1cda47adc08', 'http://ws.audioscrobbler.com/2.0/?method=artist.getinfo&api_key=033e66393e8762abe4495cd2b58d0b0a&format=json&mbid=3ad4f6ec-253f-4050-8849-ca26266edfb8', 'http://ws.audioscrobbler.com/2.0/?method=artist.getinfo&api_key=033e66393e8762abe4495cd2b58d0b0a&format=json&mbid=5652bb3e-f225-49de-9637-5aa1539b4a7c', 'http://ws.audioscrobbler.com/2.0/?method=artist.getinfo&api_key=033e66393e8762abe4495cd2b58d0b0a&format=json&mbid=9b5ce0c1-1bc0-4ea2-a8d3-f5ee7af9eda8', 'http://ws.audioscrobbler.com/2.0/?method=artist.getinfo&api_key=033e66393e8762abe4495cd2b58d0b0a&format=json&mbid=981d39fc-bd00-4cc6-ac67-6410f8b89098']\n"
     ]
    }
   ],
   "source": [
    "mbidurl = []\n",
    "\n",
    "for url in mbids: \n",
    "    apiurl = \"http://ws.audioscrobbler.com/2.0/?method=artist.getinfo&api_key=033e66393e8762abe4495cd2b58d0b0a&format=json&mbid=\"\n",
    "    mbidurl.append(apiurl + url)\n",
    "\n",
    "print(mbidurl)"
   ]
  },
  {
   "cell_type": "markdown",
   "metadata": {},
   "source": [
    "Your results should look something like\n",
    "\n",
    "```http://ws.audioscrobbler.com/2.0/?method=artist.getinfo&api_key=XXXXX&format=json&mbid=6e0c7c0e-cba5-4c2c-a652-38f71ef5785d\n",
    "http://ws.audioscrobbler.com/2.0/?method=artist.getinfo&api_key=XXXXX&format=json&mbid=1550f952-c91b-40d7-9b4d-d26a259ee932\n",
    "http://ws.audioscrobbler.com/2.0/?method=artist.getinfo&api_key=XXXXX&format=json&mbid=1b72331b-3a97-4981-a81c-eeee9c275d28\n",
    "http://ws.audioscrobbler.com/2.0/?method=artist.getinfo&api_key=XXXXX&format=json&mbid=5f1adfe1-4d07-4141-b181-79e5d379d539\n",
    "http://ws.audioscrobbler.com/2.0/?method=artist.getinfo&api_key=XXXXX&format=json&mbid=a95384b1-6aec-468c-ae0d-8c6daf87c4c2\n",
    "http://ws.audioscrobbler.com/2.0/?method=artist.getinfo&api_key=XXXXX&format=json&mbid=bc1b5c95-e6d6-46b5-957a-5e8908b02c1e```"
   ]
  },
  {
   "cell_type": "markdown",
   "metadata": {},
   "source": [
    "## OKAY HERE IS A LITTLE INFORMATION: Using our API urls\n",
    "\n",
    "This time instead of just *displaying* the URL, we're going to *request and process it*. **But first I'm going to teach you something.**\n",
    "\n",
    "When you're dealing with an API, you don't want to make a million requests, have bad code, and then need to do those million requests again. It's usually best to test your code with a few of the results first.\n",
    "\n",
    "So, if we have a list of numbers like this:"
   ]
  },
  {
   "cell_type": "code",
   "execution_count": 58,
   "metadata": {},
   "outputs": [
    {
     "data": {
      "text/plain": [
       "[4, 5, 6, 7]"
      ]
     },
     "execution_count": 58,
     "metadata": {},
     "output_type": "execute_result"
    }
   ],
   "source": [
    "numbers = [4, 5, 6, 7]\n",
    "numbers"
   ]
  },
  {
   "cell_type": "markdown",
   "metadata": {},
   "source": [
    "You can actually say to Python, **give me the first two**, and it will only give you the first two."
   ]
  },
  {
   "cell_type": "code",
   "execution_count": 59,
   "metadata": {},
   "outputs": [
    {
     "data": {
      "text/plain": [
       "[4, 5]"
      ]
     },
     "execution_count": 59,
     "metadata": {},
     "output_type": "execute_result"
    }
   ],
   "source": [
    "numbers[:2]"
   ]
  },
  {
   "cell_type": "markdown",
   "metadata": {},
   "source": [
    "The is **very convenient** with loopng with APIs, because instead of trying to use all FIFTY artists, you can just say \"hey, please try this out with 2 of them\" and you don't waste time."
   ]
  },
  {
   "cell_type": "markdown",
   "metadata": {},
   "source": [
    "## 10) Using the first three `mbids`, request the API urls and print the artist's name.\n",
    "\n",
    "You built the URLs in the last question, now it's time to use them! Use `requests` etc to grab the URL and get out the artist's name.\n",
    "\n",
    "- *Tip: The code is the same as last time you got an artist's name from their info page, it's just going to be inside of a loop*\n",
    "- *Tip: USE `PRINT` TO SEE WHAT YOU ARE LOOKING AT!!!!!*"
   ]
  },
  {
   "cell_type": "code",
   "execution_count": 60,
   "metadata": {},
   "outputs": [
    {
     "name": "stdout",
     "output_type": "stream",
     "text": [
      "Lily Allen\n",
      "Lil Wayne\n",
      "Lil Durk\n",
      "Lil Ugly Mane\n",
      "Lil B\n",
      "Lil Dicky\n",
      "Lil' Kim\n",
      "Lilly Wood & The Prick\n",
      "Lil Jon\n",
      "Lil Jon & The East Side Boyz\n",
      "Lilac\n",
      "Lila Downs\n",
      "Lil Boosie\n",
      "The Tiger Lillies\n",
      "Lily Chou-Chou\n",
      "Lil Wyte\n",
      "Lil' Flip\n"
     ]
    }
   ],
   "source": [
    "for artist in mbidurl:\n",
    "    mbidresponse = requests.get(artist)\n",
    "    mbiddata = mbidresponse.json()\n",
    "    mbidnames = mbiddata['artist']['name']\n",
    "    print(mbidnames)"
   ]
  },
  {
   "cell_type": "markdown",
   "metadata": {},
   "source": [
    "## 11) Using the first three `mbids`, request the API urls and print the artist's name and their tags\n",
    "\n",
    "- *Tip: The code is the same as last time you got an artist's name from their info page, it's just going to be inside of a loop*\n",
    "- *Tip: It's a for loop in a for loop!*"
   ]
  },
  {
   "cell_type": "code",
   "execution_count": 64,
   "metadata": {},
   "outputs": [
    {
     "name": "stdout",
     "output_type": "stream",
     "text": [
      "Lily Allen\n",
      "pop\n",
      "female vocalists\n",
      "british\n",
      "britpop\n",
      "singer-songwriter\n",
      "Lil Wayne\n",
      "rap\n",
      "Hip-Hop\n",
      "hip hop\n",
      "Gangsta Rap\n",
      "Dirty South\n",
      "Lil Durk\n",
      "rap\n",
      "Hip-Hop\n",
      "drill\n",
      "trap\n",
      "hip hop\n",
      "Lil Ugly Mane\n",
      "Hip-Hop\n",
      "memphis rap\n",
      "Lo-Fi\n",
      "Gangsta Rap\n",
      "Trill Shit\n",
      "Lil B\n",
      "based\n",
      "Hip-Hop\n",
      "swag\n",
      "real recognize real and this nigga the realest\n",
      "rap\n",
      "Lil Dicky\n",
      "Hip-Hop\n",
      "rap\n",
      "comedy\n",
      "hip hop\n",
      "seen live\n",
      "Lil' Kim\n",
      "Hip-Hop\n",
      "rap\n",
      "hip hop\n",
      "female vocalists\n",
      "rnb\n",
      "Lilly Wood & The Prick\n",
      "french\n",
      "indie\n",
      "indie pop\n",
      "folk\n",
      "female vocalists\n",
      "Lil Jon\n",
      "Crunk\n",
      "Hip-Hop\n",
      "rap\n",
      "Dirty South\n",
      "hip hop\n",
      "Lil Jon & The East Side Boyz\n",
      "Crunk\n",
      "rap\n",
      "Hip-Hop\n",
      "Dirty South\n",
      "hip hop\n",
      "Lilac\n",
      "seen live\n",
      "hardcore\n",
      "punk\n",
      "electronic\n",
      "trip-hop\n",
      "Lila Downs\n",
      "latin\n",
      "female vocalists\n",
      "mexico\n",
      "world\n",
      "mexican\n",
      "Lil Boosie\n",
      "rap\n",
      "Dirty South\n",
      "Hip-Hop\n",
      "LIL BOOSIE\n",
      "Louisiana Rap\n",
      "The Tiger Lillies\n",
      "dark cabaret\n",
      "cabaret\n",
      "Avant-Garde\n",
      "experimental\n",
      "alternative\n",
      "Lily Chou-Chou\n",
      "japanese\n",
      "Soundtrack\n",
      "female vocalists\n",
      "ethereal\n",
      "ether\n",
      "Lil Wyte\n",
      "rap\n",
      "Hip-Hop\n",
      "Dirty South\n",
      "southern rap\n",
      "Gangsta Rap\n",
      "Lil' Flip\n",
      "rap\n",
      "Hip-Hop\n",
      "Dirty South\n",
      "hip hop\n",
      "southern rap\n"
     ]
    }
   ],
   "source": [
    "for artist in mbidurl:\n",
    "    mbidresponse = requests.get(artist)\n",
    "    mbiddata = mbidresponse.json()\n",
    "    mbidnames = mbiddata['artist']['name']\n",
    "    print(mbidnames)\n",
    "    for tag in mbiddata['artist']['tags']['tag']:\n",
    "        print(tag['name'])"
   ]
  },
  {
   "cell_type": "markdown",
   "metadata": {},
   "source": [
    "## 12) Using the first ten mbids, print the artist's name and whether they're a rapper\n",
    "\n",
    "Only print their name ONCE and only print whether they are hip hop or not ONCE.\n",
    "\n",
    "- *Tip: Rap tags include hip hop, swag, crunk, rap, dirty south, and probably a bunch of other stuff! You can include as many categories as you'd like.*\n",
    "- *Tip: You can use `2 in [1, 2, 3]` to find out if `2` is in the list of `[1, 2, 3]`.*\n",
    "- *Tip: Every time you look at a new artist, you can say they are NOT a rapper. And once you find out one of their tags is hip hop or rap, then you can note that they're a rapper. Then once you're done looking at their tags, then you can say HEY this is a rapper, or HEY this is not a rapper.*"
   ]
  },
  {
   "cell_type": "code",
   "execution_count": 65,
   "metadata": {
    "scrolled": true
   },
   "outputs": [
    {
     "name": "stdout",
     "output_type": "stream",
     "text": [
      "Lily Allen\n",
      "Not rap\n",
      "Lil Wayne\n",
      "Rap\n",
      "Lil Durk\n",
      "Rap\n",
      "Lil Ugly Mane\n",
      "Not rap\n",
      "Lil B\n",
      "Rap\n",
      "Lil Dicky\n",
      "Rap\n",
      "Lil' Kim\n",
      "Rap\n",
      "Lilly Wood & The Prick\n",
      "Not rap\n",
      "Lil Jon\n",
      "Rap\n",
      "Lil Jon & The East Side Boyz\n",
      "Rap\n",
      "Lilac\n",
      "Not rap\n",
      "Lila Downs\n",
      "Not rap\n",
      "Lil Boosie\n",
      "Rap\n",
      "The Tiger Lillies\n",
      "Not rap\n",
      "Lily Chou-Chou\n",
      "Not rap\n",
      "Lil Wyte\n",
      "Rap\n",
      "Lil' Flip\n",
      "Rap\n"
     ]
    }
   ],
   "source": [
    "rapcategories = [\"rap\", \"hip hop\", \"swag\", \"crunk\", \"dirty south\", \"southern rap\", \"hip-hop\", \"gangsta rap\"]\n",
    "\n",
    "for artist in mbidurl:\n",
    "    mbidresponse = requests.get(artist)\n",
    "    mbiddata = mbidresponse.json()\n",
    "    mbidnames = mbiddata['artist']['name']\n",
    "    print(mbidnames)\n",
    "    isRap = False \n",
    "\n",
    "    for tag in mbiddata['artist']['tags']['tag']:\n",
    "        if tag['name'] in rapcategories:\n",
    "            isRap = True\n",
    "\n",
    "    if isRap == True:\n",
    "        print(\"Rap\")\n",
    "    else:\n",
    "        print(\"Not rap\")"
   ]
  },
  {
   "cell_type": "markdown",
   "metadata": {},
   "source": [
    "Your results might look something like\n",
    "\n",
    "```ARTIST: Lily Allen\n",
    "NO hip hop\n",
    "ARTIST: Lil B\n",
    "YES hip hop\n",
    "ARTIST: Lilly Wood & The Prick\n",
    "NO hip hop\n",
    "ARTIST: Lil Ugly Mane\n",
    "YES hip hop\n",
    "ARTIST: Lil Jon\n",
    "YES hip hop\n",
    "ARTIST: Lil' Kim\n",
    "YES hip hop\n",
    "ARTIST: Lil Jon & The East Side Boyz\n",
    "YES hip hop\n",
    "```"
   ]
  },
  {
   "cell_type": "markdown",
   "metadata": {
    "collapsed": true
   },
   "source": [
    "## 13) What percent of \"lil\" results are rappers?"
   ]
  },
  {
   "cell_type": "code",
   "execution_count": 67,
   "metadata": {
    "scrolled": true
   },
   "outputs": [
    {
     "name": "stdout",
     "output_type": "stream",
     "text": [
      "59% are rappers.\n"
     ]
    }
   ],
   "source": [
    "rapcategories = [\"rap\", \"hip hop\", \"swag\", \"crunk\", \"dirty south\", \"southern rap\", \"hip-hop\", \"gangsta rap\"]\n",
    "count = 0 \n",
    "\n",
    "for artist in mbidurl:\n",
    "    mbidresponse = requests.get(artist)\n",
    "    mbiddata = mbidresponse.json()\n",
    "    mbidnames = mbiddata['artist']['name']\n",
    "    isRap = False\n",
    "    \n",
    "    for tag in mbiddata['artist']['tags']['tag']:\n",
    "        if tag['name'] in rapcategories:\n",
    "            isRap = True\n",
    "            \n",
    "    if isRap == True:\n",
    "        count = count + 1 \n",
    "\n",
    "print(f\"{count/len(mbidurl)*100:.0f}% of results are rappers.\")"
   ]
  },
  {
   "cell_type": "markdown",
   "metadata": {},
   "source": [
    "## 14) Seriously you are all-powerful now."
   ]
  },
  {
   "cell_type": "code",
   "execution_count": null,
   "metadata": {},
   "outputs": [],
   "source": []
  },
  {
   "cell_type": "code",
   "execution_count": null,
   "metadata": {},
   "outputs": [],
   "source": []
  }
 ],
 "metadata": {
  "kernelspec": {
   "display_name": "Python 3 (ipykernel)",
   "language": "python",
   "name": "python3"
  },
  "language_info": {
   "codemirror_mode": {
    "name": "ipython",
    "version": 3
   },
   "file_extension": ".py",
   "mimetype": "text/x-python",
   "name": "python",
   "nbconvert_exporter": "python",
   "pygments_lexer": "ipython3",
   "version": "3.10.3"
  }
 },
 "nbformat": 4,
 "nbformat_minor": 1
}
